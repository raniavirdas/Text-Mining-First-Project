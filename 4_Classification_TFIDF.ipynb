{
 "cells": [
  {
   "cell_type": "code",
   "execution_count": 2,
   "id": "2432c391",
   "metadata": {},
   "outputs": [
    {
     "data": {
      "text/html": [
       "<div>\n",
       "<style scoped>\n",
       "    .dataframe tbody tr th:only-of-type {\n",
       "        vertical-align: middle;\n",
       "    }\n",
       "\n",
       "    .dataframe tbody tr th {\n",
       "        vertical-align: top;\n",
       "    }\n",
       "\n",
       "    .dataframe thead th {\n",
       "        text-align: right;\n",
       "    }\n",
       "</style>\n",
       "<table border=\"1\" class=\"dataframe\">\n",
       "  <thead>\n",
       "    <tr style=\"text-align: right;\">\n",
       "      <th></th>\n",
       "      <th>Unnamed: 0</th>\n",
       "      <th>Document</th>\n",
       "      <th>lemmatized</th>\n",
       "      <th>Target Label</th>\n",
       "      <th>Target Name</th>\n",
       "    </tr>\n",
       "  </thead>\n",
       "  <tbody>\n",
       "    <tr>\n",
       "      <th>0</th>\n",
       "      <td>0</td>\n",
       "      <td>Cancer and cure: A critical analysis. Cancer i...</td>\n",
       "      <td>['cancer', 'cure', 'critical', 'analysis', 'ca...</td>\n",
       "      <td>1</td>\n",
       "      <td>Cancer</td>\n",
       "    </tr>\n",
       "    <tr>\n",
       "      <th>1</th>\n",
       "      <td>1</td>\n",
       "      <td>Tumor microenvironment: recent advances in var...</td>\n",
       "      <td>['tumor', 'microenvironment', 'recent', 'advan...</td>\n",
       "      <td>1</td>\n",
       "      <td>Cancer</td>\n",
       "    </tr>\n",
       "    <tr>\n",
       "      <th>2</th>\n",
       "      <td>2</td>\n",
       "      <td>Global Cancer Incidence and Mortality Rates an...</td>\n",
       "      <td>['global', 'cancer', 'incidence', 'mortality',...</td>\n",
       "      <td>1</td>\n",
       "      <td>Cancer</td>\n",
       "    </tr>\n",
       "    <tr>\n",
       "      <th>3</th>\n",
       "      <td>3</td>\n",
       "      <td>Recent Updates on the Relationship between Can...</td>\n",
       "      <td>['recent', 'update', 'relationship', 'cancer',...</td>\n",
       "      <td>1</td>\n",
       "      <td>Cancer</td>\n",
       "    </tr>\n",
       "    <tr>\n",
       "      <th>4</th>\n",
       "      <td>4</td>\n",
       "      <td>What Is Cancer? This essay focuses on themes i...</td>\n",
       "      <td>['cancer', 'essay', 'focus', 'theme', 'explain...</td>\n",
       "      <td>1</td>\n",
       "      <td>Cancer</td>\n",
       "    </tr>\n",
       "    <tr>\n",
       "      <th>5</th>\n",
       "      <td>5</td>\n",
       "      <td>New methods in the diagnosis of cancer and gen...</td>\n",
       "      <td>['new', 'method', 'diagnosis', 'cancer', 'gene...</td>\n",
       "      <td>1</td>\n",
       "      <td>Cancer</td>\n",
       "    </tr>\n",
       "    <tr>\n",
       "      <th>6</th>\n",
       "      <td>6</td>\n",
       "      <td>Cancer-associated fibroblasts in tumor microen...</td>\n",
       "      <td>['cancerassociated', 'fibroblast', 'tumor', 'm...</td>\n",
       "      <td>1</td>\n",
       "      <td>Cancer</td>\n",
       "    </tr>\n",
       "    <tr>\n",
       "      <th>7</th>\n",
       "      <td>7</td>\n",
       "      <td>Clinical, Prognostic and Therapeutic Significa...</td>\n",
       "      <td>['clinical', 'prognostic', 'therapeutic', 'sig...</td>\n",
       "      <td>1</td>\n",
       "      <td>Cancer</td>\n",
       "    </tr>\n",
       "    <tr>\n",
       "      <th>8</th>\n",
       "      <td>8</td>\n",
       "      <td>Cancer prevention: from 1727 to milestones of ...</td>\n",
       "      <td>['cancer', 'prevention', 'milestone', 'past', ...</td>\n",
       "      <td>1</td>\n",
       "      <td>Cancer</td>\n",
       "    </tr>\n",
       "    <tr>\n",
       "      <th>9</th>\n",
       "      <td>9</td>\n",
       "      <td>NaN</td>\n",
       "      <td>['nan']</td>\n",
       "      <td>1</td>\n",
       "      <td>Cancer</td>\n",
       "    </tr>\n",
       "  </tbody>\n",
       "</table>\n",
       "</div>"
      ],
      "text/plain": [
       "   Unnamed: 0                                           Document  \\\n",
       "0           0  Cancer and cure: A critical analysis. Cancer i...   \n",
       "1           1  Tumor microenvironment: recent advances in var...   \n",
       "2           2  Global Cancer Incidence and Mortality Rates an...   \n",
       "3           3  Recent Updates on the Relationship between Can...   \n",
       "4           4  What Is Cancer? This essay focuses on themes i...   \n",
       "5           5  New methods in the diagnosis of cancer and gen...   \n",
       "6           6  Cancer-associated fibroblasts in tumor microen...   \n",
       "7           7  Clinical, Prognostic and Therapeutic Significa...   \n",
       "8           8  Cancer prevention: from 1727 to milestones of ...   \n",
       "9           9                                                NaN   \n",
       "\n",
       "                                          lemmatized  Target Label Target Name  \n",
       "0  ['cancer', 'cure', 'critical', 'analysis', 'ca...             1      Cancer  \n",
       "1  ['tumor', 'microenvironment', 'recent', 'advan...             1      Cancer  \n",
       "2  ['global', 'cancer', 'incidence', 'mortality',...             1      Cancer  \n",
       "3  ['recent', 'update', 'relationship', 'cancer',...             1      Cancer  \n",
       "4  ['cancer', 'essay', 'focus', 'theme', 'explain...             1      Cancer  \n",
       "5  ['new', 'method', 'diagnosis', 'cancer', 'gene...             1      Cancer  \n",
       "6  ['cancerassociated', 'fibroblast', 'tumor', 'm...             1      Cancer  \n",
       "7  ['clinical', 'prognostic', 'therapeutic', 'sig...             1      Cancer  \n",
       "8  ['cancer', 'prevention', 'milestone', 'past', ...             1      Cancer  \n",
       "9                                            ['nan']             1      Cancer  "
      ]
     },
     "execution_count": 2,
     "metadata": {},
     "output_type": "execute_result"
    }
   ],
   "source": [
    "import pandas as pd\n",
    "#data_df = pd.read_csv('clean_newsgroups.csv')\n",
    "data_df = pd.read_csv('../Output/PubMedArticle(normalize+lemmatize).csv', encoding='utf-8')\n",
    "data_df.head(10)"
   ]
  },
  {
   "cell_type": "code",
   "execution_count": 3,
   "id": "67e00514",
   "metadata": {},
   "outputs": [
    {
     "data": {
      "text/plain": [
       "((33500,), (16500,))"
      ]
     },
     "execution_count": 3,
     "metadata": {},
     "output_type": "execute_result"
    }
   ],
   "source": [
    "import numpy as np\n",
    "from sklearn.model_selection import train_test_split\n",
    "\n",
    "train_corpus, test_corpus, train_label_nums, test_label_nums, train_label_names, test_label_names =\\\n",
    "                                 train_test_split(np.array(data_df['lemmatized']), np.array(data_df['Target Label']),\n",
    "                                                       np.array(data_df['Target Name']), test_size=0.33, random_state=42)\n",
    "\n",
    "train_corpus.shape, test_corpus.shape"
   ]
  },
  {
   "cell_type": "code",
   "execution_count": 4,
   "id": "0b980ac5",
   "metadata": {},
   "outputs": [],
   "source": [
    "from sklearn.feature_extraction.text import TfidfVectorizer\n",
    "\n",
    "# build BOW features on train articles\n",
    "tv = TfidfVectorizer(use_idf=True, min_df=0.00002, max_df=0.6)\n",
    "tv_train_features = tv.fit_transform(train_corpus.astype('U'))"
   ]
  },
  {
   "cell_type": "code",
   "execution_count": 5,
   "id": "424c2335",
   "metadata": {},
   "outputs": [],
   "source": [
    "# transform test articles into features\n",
    "tv_test_features = tv.transform(test_corpus.astype('U'))"
   ]
  },
  {
   "cell_type": "code",
   "execution_count": 6,
   "id": "824ed29a",
   "metadata": {},
   "outputs": [
    {
     "name": "stdout",
     "output_type": "stream",
     "text": [
      "TFIDF model:> Train features shape: (33500, 85199)  Test features shape: (16500, 85199)\n"
     ]
    }
   ],
   "source": [
    "print('TFIDF model:> Train features shape:', tv_train_features.shape, ' Test features shape:', tv_test_features.shape)"
   ]
  },
  {
   "cell_type": "code",
   "execution_count": 7,
   "id": "03a083e6",
   "metadata": {},
   "outputs": [
    {
     "name": "stdout",
     "output_type": "stream",
     "text": [
      "CV Accuracy (5-fold): [0.82701493 0.82208955 0.81686567 0.82402985 0.83268657]\n",
      "Mean CV Accuracy: 0.8245373134328359\n",
      "Test Accuracy: 0.8306666666666667\n"
     ]
    }
   ],
   "source": [
    "from sklearn.linear_model import LogisticRegression\n",
    "from sklearn.model_selection import cross_val_score\n",
    "lr = LogisticRegression(penalty='l2', max_iter=1000, C=1, random_state=42)\n",
    "lr.fit(tv_train_features, train_label_names)\n",
    "lr_tfidf_cv_scores = cross_val_score(lr, tv_train_features, train_label_names, cv=5)\n",
    "lr_tfidf_cv_mean_score = np.mean(lr_tfidf_cv_scores)\n",
    "print('CV Accuracy (5-fold):', lr_tfidf_cv_scores)\n",
    "print('Mean CV Accuracy:', lr_tfidf_cv_mean_score)\n",
    "lr_tfidf_test_score = lr.score(tv_test_features, test_label_names)\n",
    "print('Test Accuracy:', lr_tfidf_test_score)"
   ]
  },
  {
   "cell_type": "code",
   "execution_count": 8,
   "id": "d83cc031",
   "metadata": {},
   "outputs": [
    {
     "name": "stdout",
     "output_type": "stream",
     "text": [
      "CV Accuracy (5-fold): [0.82641791 0.82313433 0.81656716 0.82402985 0.83253731]\n",
      "Mean CV Accuracy: 0.8245373134328358\n",
      "Test Accuracy: 0.830969696969697\n"
     ]
    }
   ],
   "source": [
    "from sklearn.svm import LinearSVC\n",
    "\n",
    "svm = LinearSVC(penalty='l2', C=1, random_state=42)\n",
    "svm.fit(tv_train_features, train_label_names)\n",
    "svm_tfidf_cv_scores = cross_val_score(svm, tv_train_features, train_label_names, cv=5)\n",
    "svm_tfidf_cv_mean_score = np.mean(svm_tfidf_cv_scores)\n",
    "print('CV Accuracy (5-fold):', svm_tfidf_cv_scores)\n",
    "print('Mean CV Accuracy:', svm_tfidf_cv_mean_score)\n",
    "svm_tfidf_test_score = svm.score(tv_test_features, test_label_names)\n",
    "print('Test Accuracy:', svm_tfidf_test_score)"
   ]
  },
  {
   "cell_type": "code",
   "execution_count": 9,
   "id": "89e9fa35",
   "metadata": {},
   "outputs": [
    {
     "data": {
      "text/html": [
       "<div>\n",
       "<style scoped>\n",
       "    .dataframe tbody tr th:only-of-type {\n",
       "        vertical-align: middle;\n",
       "    }\n",
       "\n",
       "    .dataframe tbody tr th {\n",
       "        vertical-align: top;\n",
       "    }\n",
       "\n",
       "    .dataframe thead th {\n",
       "        text-align: right;\n",
       "    }\n",
       "</style>\n",
       "<table border=\"1\" class=\"dataframe\">\n",
       "  <thead>\n",
       "    <tr style=\"text-align: right;\">\n",
       "      <th></th>\n",
       "      <th>Model</th>\n",
       "      <th>CV Score (TF-IDF)</th>\n",
       "      <th>Test Score (TF-IDF)</th>\n",
       "    </tr>\n",
       "  </thead>\n",
       "  <tbody>\n",
       "    <tr>\n",
       "      <th>0</th>\n",
       "      <td>Logistic Regression</td>\n",
       "      <td>0.824537</td>\n",
       "      <td>0.830667</td>\n",
       "    </tr>\n",
       "    <tr>\n",
       "      <th>1</th>\n",
       "      <td>Linear SVM</td>\n",
       "      <td>0.824537</td>\n",
       "      <td>0.830970</td>\n",
       "    </tr>\n",
       "  </tbody>\n",
       "</table>\n",
       "</div>"
      ],
      "text/plain": [
       "                 Model  CV Score (TF-IDF)  Test Score (TF-IDF)\n",
       "0  Logistic Regression           0.824537             0.830667\n",
       "1           Linear SVM           0.824537             0.830970"
      ]
     },
     "execution_count": 9,
     "metadata": {},
     "output_type": "execute_result"
    }
   ],
   "source": [
    "pd.DataFrame([['Logistic Regression', \n",
    "               lr_tfidf_cv_mean_score, lr_tfidf_test_score],\n",
    "              ['Linear SVM', \n",
    "               svm_tfidf_cv_mean_score, svm_tfidf_test_score]],\n",
    "             columns=['Model',  'CV Score (TF-IDF)', 'Test Score (TF-IDF)'],\n",
    "             )"
   ]
  }
 ],
 "metadata": {
  "kernelspec": {
   "display_name": "Python 3",
   "language": "python",
   "name": "python3"
  },
  "language_info": {
   "codemirror_mode": {
    "name": "ipython",
    "version": 3
   },
   "file_extension": ".py",
   "mimetype": "text/x-python",
   "name": "python",
   "nbconvert_exporter": "python",
   "pygments_lexer": "ipython3",
   "version": "3.8.8"
  }
 },
 "nbformat": 4,
 "nbformat_minor": 5
}
