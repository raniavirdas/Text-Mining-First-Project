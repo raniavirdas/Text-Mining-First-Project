{
 "cells": [
  {
   "cell_type": "code",
   "execution_count": 10,
   "id": "8366c782",
   "metadata": {},
   "outputs": [],
   "source": [
    "import pandas as pd\n",
    "#data_df = pd.read_csv('clean_newsgroups.csv')\n",
    "data_df = pd.read_csv('../Output/PubMedCleanArticle(normalize+lemmetize).csv', encoding='utf-8')"
   ]
  },
  {
   "cell_type": "code",
   "execution_count": 11,
   "id": "05da51dc",
   "metadata": {
    "scrolled": false
   },
   "outputs": [
    {
     "data": {
      "text/html": [
       "<div>\n",
       "<style scoped>\n",
       "    .dataframe tbody tr th:only-of-type {\n",
       "        vertical-align: middle;\n",
       "    }\n",
       "\n",
       "    .dataframe tbody tr th {\n",
       "        vertical-align: top;\n",
       "    }\n",
       "\n",
       "    .dataframe thead th {\n",
       "        text-align: right;\n",
       "    }\n",
       "</style>\n",
       "<table border=\"1\" class=\"dataframe\">\n",
       "  <thead>\n",
       "    <tr style=\"text-align: right;\">\n",
       "      <th></th>\n",
       "      <th>Unnamed: 0</th>\n",
       "      <th>Article</th>\n",
       "      <th>lemmatized</th>\n",
       "      <th>Target Label</th>\n",
       "      <th>Target Name</th>\n",
       "    </tr>\n",
       "  </thead>\n",
       "  <tbody>\n",
       "    <tr>\n",
       "      <th>0</th>\n",
       "      <td>0</td>\n",
       "      <td>Cancer and cure: A critical analysis. Cancer i...</td>\n",
       "      <td>['cancer', 'cure', 'critical', 'analysis', 'ca...</td>\n",
       "      <td>1</td>\n",
       "      <td>Cancer</td>\n",
       "    </tr>\n",
       "    <tr>\n",
       "      <th>1</th>\n",
       "      <td>1</td>\n",
       "      <td>Tumor microenvironment: recent advances in var...</td>\n",
       "      <td>['tumor', 'microenvironment', 'recent', 'advan...</td>\n",
       "      <td>1</td>\n",
       "      <td>Cancer</td>\n",
       "    </tr>\n",
       "    <tr>\n",
       "      <th>2</th>\n",
       "      <td>2</td>\n",
       "      <td>Global Cancer Incidence and Mortality Rates an...</td>\n",
       "      <td>['global', 'cancer', 'incidence', 'mortality',...</td>\n",
       "      <td>1</td>\n",
       "      <td>Cancer</td>\n",
       "    </tr>\n",
       "    <tr>\n",
       "      <th>3</th>\n",
       "      <td>3</td>\n",
       "      <td>Recent Updates on the Relationship between Can...</td>\n",
       "      <td>['recent', 'update', 'relationship', 'cancer',...</td>\n",
       "      <td>1</td>\n",
       "      <td>Cancer</td>\n",
       "    </tr>\n",
       "    <tr>\n",
       "      <th>4</th>\n",
       "      <td>4</td>\n",
       "      <td>What Is Cancer? This essay focuses on themes i...</td>\n",
       "      <td>['cancer', 'essay', 'focus', 'theme', 'explain...</td>\n",
       "      <td>1</td>\n",
       "      <td>Cancer</td>\n",
       "    </tr>\n",
       "    <tr>\n",
       "      <th>5</th>\n",
       "      <td>5</td>\n",
       "      <td>New methods in the diagnosis of cancer and gen...</td>\n",
       "      <td>['new', 'method', 'diagnosis', 'cancer', 'gene...</td>\n",
       "      <td>1</td>\n",
       "      <td>Cancer</td>\n",
       "    </tr>\n",
       "    <tr>\n",
       "      <th>6</th>\n",
       "      <td>6</td>\n",
       "      <td>Cancer-associated fibroblasts in tumor microen...</td>\n",
       "      <td>['cancerassociated', 'fibroblast', 'tumor', 'm...</td>\n",
       "      <td>1</td>\n",
       "      <td>Cancer</td>\n",
       "    </tr>\n",
       "    <tr>\n",
       "      <th>7</th>\n",
       "      <td>7</td>\n",
       "      <td>Clinical, Prognostic and Therapeutic Significa...</td>\n",
       "      <td>['clinical', 'prognostic', 'therapeutic', 'sig...</td>\n",
       "      <td>1</td>\n",
       "      <td>Cancer</td>\n",
       "    </tr>\n",
       "    <tr>\n",
       "      <th>8</th>\n",
       "      <td>8</td>\n",
       "      <td>Cancer prevention: from 1727 to milestones of ...</td>\n",
       "      <td>['cancer', 'prevention', 'milestone', 'past', ...</td>\n",
       "      <td>1</td>\n",
       "      <td>Cancer</td>\n",
       "    </tr>\n",
       "    <tr>\n",
       "      <th>9</th>\n",
       "      <td>9</td>\n",
       "      <td>NaN</td>\n",
       "      <td>['nan']</td>\n",
       "      <td>1</td>\n",
       "      <td>Cancer</td>\n",
       "    </tr>\n",
       "  </tbody>\n",
       "</table>\n",
       "</div>"
      ],
      "text/plain": [
       "   Unnamed: 0                                            Article  \\\n",
       "0           0  Cancer and cure: A critical analysis. Cancer i...   \n",
       "1           1  Tumor microenvironment: recent advances in var...   \n",
       "2           2  Global Cancer Incidence and Mortality Rates an...   \n",
       "3           3  Recent Updates on the Relationship between Can...   \n",
       "4           4  What Is Cancer? This essay focuses on themes i...   \n",
       "5           5  New methods in the diagnosis of cancer and gen...   \n",
       "6           6  Cancer-associated fibroblasts in tumor microen...   \n",
       "7           7  Clinical, Prognostic and Therapeutic Significa...   \n",
       "8           8  Cancer prevention: from 1727 to milestones of ...   \n",
       "9           9                                                NaN   \n",
       "\n",
       "                                          lemmatized  Target Label Target Name  \n",
       "0  ['cancer', 'cure', 'critical', 'analysis', 'ca...             1      Cancer  \n",
       "1  ['tumor', 'microenvironment', 'recent', 'advan...             1      Cancer  \n",
       "2  ['global', 'cancer', 'incidence', 'mortality',...             1      Cancer  \n",
       "3  ['recent', 'update', 'relationship', 'cancer',...             1      Cancer  \n",
       "4  ['cancer', 'essay', 'focus', 'theme', 'explain...             1      Cancer  \n",
       "5  ['new', 'method', 'diagnosis', 'cancer', 'gene...             1      Cancer  \n",
       "6  ['cancerassociated', 'fibroblast', 'tumor', 'm...             1      Cancer  \n",
       "7  ['clinical', 'prognostic', 'therapeutic', 'sig...             1      Cancer  \n",
       "8  ['cancer', 'prevention', 'milestone', 'past', ...             1      Cancer  \n",
       "9                                            ['nan']             1      Cancer  "
      ]
     },
     "execution_count": 11,
     "metadata": {},
     "output_type": "execute_result"
    }
   ],
   "source": [
    "data_df.head(10)"
   ]
  },
  {
   "cell_type": "code",
   "execution_count": 12,
   "id": "e52b6a0b",
   "metadata": {},
   "outputs": [
    {
     "data": {
      "text/plain": [
       "array([1, 1, 1, ..., 5, 5, 5], dtype=int64)"
      ]
     },
     "execution_count": 12,
     "metadata": {},
     "output_type": "execute_result"
    }
   ],
   "source": [
    "import numpy as np\n",
    "np.array(data_df['Target Label'])"
   ]
  },
  {
   "cell_type": "code",
   "execution_count": 13,
   "id": "66c2f745",
   "metadata": {},
   "outputs": [
    {
     "data": {
      "text/plain": [
       "array(['Cancer', 'Cancer', 'Cancer', ..., 'Virus', 'Virus', 'Virus'],\n",
       "      dtype=object)"
      ]
     },
     "execution_count": 13,
     "metadata": {},
     "output_type": "execute_result"
    }
   ],
   "source": [
    "np.array(data_df['Target Name'])"
   ]
  },
  {
   "cell_type": "code",
   "execution_count": 14,
   "id": "cd954c73",
   "metadata": {},
   "outputs": [
    {
     "data": {
      "text/plain": [
       "((33500,), (16500,))"
      ]
     },
     "execution_count": 14,
     "metadata": {},
     "output_type": "execute_result"
    }
   ],
   "source": [
    "import numpy as np\n",
    "from sklearn.model_selection import train_test_split\n",
    "\n",
    "train_corpus, test_corpus, train_label_nums, test_label_nums, train_label_names, test_label_names =\\\n",
    "                                 train_test_split(np.array(data_df['lemmatized']), np.array(data_df['Target Label']),\n",
    "                                                       np.array(data_df['Target Name']), test_size=0.33, random_state=42)\n",
    "\n",
    "train_corpus.shape, test_corpus.shape"
   ]
  },
  {
   "cell_type": "code",
   "execution_count": 15,
   "id": "23588d2f",
   "metadata": {},
   "outputs": [
    {
     "data": {
      "text/plain": [
       "(array([3, 1, 1, ..., 4, 1, 2], dtype=int64),\n",
       " array([4, 1, 1, ..., 4, 5, 3], dtype=int64))"
      ]
     },
     "execution_count": 15,
     "metadata": {},
     "output_type": "execute_result"
    }
   ],
   "source": [
    "train_label_nums, test_label_nums"
   ]
  },
  {
   "cell_type": "code",
   "execution_count": 16,
   "id": "10854678",
   "metadata": {
    "scrolled": true
   },
   "outputs": [
    {
     "data": {
      "text/plain": [
       "(array(['Genome', 'Cancer', 'Cancer', ..., 'Vaccine', 'Cancer', 'COVID-19'],\n",
       "       dtype=object),\n",
       " array(['Vaccine', 'Cancer', 'Cancer', ..., 'Vaccine', 'Virus', 'Genome'],\n",
       "       dtype=object))"
      ]
     },
     "execution_count": 16,
     "metadata": {},
     "output_type": "execute_result"
    }
   ],
   "source": [
    "train_label_names, test_label_names"
   ]
  },
  {
   "cell_type": "code",
   "execution_count": 17,
   "id": "0657e37c",
   "metadata": {},
   "outputs": [
    {
     "data": {
      "text/plain": [
       "<50000x50719 sparse matrix of type '<class 'numpy.int64'>'\n",
       "\twith 1068237 stored elements in Compressed Sparse Row format>"
      ]
     },
     "execution_count": 17,
     "metadata": {},
     "output_type": "execute_result"
    }
   ],
   "source": [
    "from sklearn.feature_extraction.text import CountVectorizer\n",
    "# get bag of words features in sparse format\n",
    "cv = CountVectorizer(min_df=0., max_df=1.)\n",
    "cv_matrix = cv.fit_transform(data_df['lemmatized'])\n",
    "cv_matrix"
   ]
  },
  {
   "cell_type": "code",
   "execution_count": 18,
   "id": "a5dbb246",
   "metadata": {
    "scrolled": false
   },
   "outputs": [
    {
     "data": {
      "text/html": [
       "<div>\n",
       "<style scoped>\n",
       "    .dataframe tbody tr th:only-of-type {\n",
       "        vertical-align: middle;\n",
       "    }\n",
       "\n",
       "    .dataframe tbody tr th {\n",
       "        vertical-align: top;\n",
       "    }\n",
       "\n",
       "    .dataframe thead th {\n",
       "        text-align: right;\n",
       "    }\n",
       "</style>\n",
       "<table border=\"1\" class=\"dataframe\">\n",
       "  <thead>\n",
       "    <tr style=\"text-align: right;\">\n",
       "      <th></th>\n",
       "      <th>Target Label</th>\n",
       "      <th>Train Count</th>\n",
       "      <th>Test Count</th>\n",
       "    </tr>\n",
       "  </thead>\n",
       "  <tbody>\n",
       "    <tr>\n",
       "      <th>0</th>\n",
       "      <td>Genome</td>\n",
       "      <td>6755</td>\n",
       "      <td>3245</td>\n",
       "    </tr>\n",
       "    <tr>\n",
       "      <th>4</th>\n",
       "      <td>Virus</td>\n",
       "      <td>6715</td>\n",
       "      <td>3285</td>\n",
       "    </tr>\n",
       "    <tr>\n",
       "      <th>3</th>\n",
       "      <td>COVID-19</td>\n",
       "      <td>6709</td>\n",
       "      <td>3291</td>\n",
       "    </tr>\n",
       "    <tr>\n",
       "      <th>2</th>\n",
       "      <td>Vaccine</td>\n",
       "      <td>6695</td>\n",
       "      <td>3305</td>\n",
       "    </tr>\n",
       "    <tr>\n",
       "      <th>1</th>\n",
       "      <td>Cancer</td>\n",
       "      <td>6626</td>\n",
       "      <td>3374</td>\n",
       "    </tr>\n",
       "  </tbody>\n",
       "</table>\n",
       "</div>"
      ],
      "text/plain": [
       "  Target Label  Train Count  Test Count\n",
       "0       Genome         6755        3245\n",
       "4        Virus         6715        3285\n",
       "3     COVID-19         6709        3291\n",
       "2      Vaccine         6695        3305\n",
       "1       Cancer         6626        3374"
      ]
     },
     "execution_count": 18,
     "metadata": {},
     "output_type": "execute_result"
    }
   ],
   "source": [
    "from collections import Counter\n",
    "\n",
    "trd = dict(Counter(train_label_names))\n",
    "tsd = dict(Counter(test_label_names))\n",
    "\n",
    "(pd.DataFrame([[key, trd[key], tsd[key]] for key in trd], \n",
    "             columns=['Target Label', 'Train Count', 'Test Count'])\n",
    ".sort_values(by=['Train Count', 'Test Count'],\n",
    "             ascending=False))"
   ]
  },
  {
   "cell_type": "code",
   "execution_count": 19,
   "id": "c3f4ad28",
   "metadata": {},
   "outputs": [
    {
     "data": {
      "text/plain": [
       "(['nan'], ['nan'])                                                                                                                                                                                 3303\n",
       "(['nan'], ['uptake', 'study', 'crosssectional', 'survey', 'examining', 'insight', 'belief', 'objective', 'key', 'challenge', 'towards', 'successful', 'covid', 'vaccine', 'uptake', 'vaccine'])       2\n",
       "(['nan'], ['attitude', 'towards', 'influenza', 'vaccine', 'potential', 'covid', 'vaccine', 'italy', 'objective', 'aimed', 'describing', 'attitude', 'towards', 'influenza', 'vaccination'])           2\n",
       "dtype: int64"
      ]
     },
     "execution_count": 19,
     "metadata": {},
     "output_type": "execute_result"
    }
   ],
   "source": [
    "import nltk\n",
    "(pd.Series(nltk.ngrams(data_df['lemmatized'], 2)).value_counts())[:3]"
   ]
  },
  {
   "cell_type": "code",
   "execution_count": 20,
   "id": "dec10f12",
   "metadata": {
    "scrolled": true
   },
   "outputs": [],
   "source": [
    "from sklearn.feature_extraction.text import CountVectorizer\n",
    "from sklearn.model_selection import cross_val_score\n",
    "\n",
    "# build BOW features on train articles\n",
    "cv = CountVectorizer(binary=False, min_df=0.00002, max_df=0.6)\n",
    "cv_train_features = cv.fit_transform(train_corpus)"
   ]
  },
  {
   "cell_type": "code",
   "execution_count": 21,
   "id": "1ecbb5f7",
   "metadata": {
    "scrolled": true
   },
   "outputs": [
    {
     "name": "stdout",
     "output_type": "stream",
     "text": [
      "(33500, 40755)\n"
     ]
    }
   ],
   "source": [
    "print(cv_train_features.shape)"
   ]
  },
  {
   "cell_type": "code",
   "execution_count": 22,
   "id": "e2fc45c3",
   "metadata": {},
   "outputs": [
    {
     "name": "stdout",
     "output_type": "stream",
     "text": [
      "  (0, 28141)\t1\n",
      "  (0, 2334)\t1\n",
      "  (0, 7059)\t1\n",
      "  (0, 29655)\t1\n",
      "  (0, 11385)\t1\n",
      "  (0, 1678)\t1\n",
      "  (0, 20791)\t1\n",
      "  (0, 7729)\t1\n",
      "  (0, 3223)\t1\n",
      "  (0, 4158)\t1\n",
      "  (0, 10671)\t1\n",
      "  (0, 14509)\t1\n",
      "  (0, 10243)\t1\n",
      "  (0, 33492)\t1\n",
      "  (0, 20715)\t1\n",
      "  (0, 3388)\t1\n",
      "  (0, 26743)\t1\n",
      "  (1, 3223)\t1\n",
      "  (1, 10243)\t3\n",
      "  (1, 27300)\t4\n",
      "  (1, 29676)\t2\n",
      "  (1, 34517)\t5\n",
      "  (1, 23717)\t7\n",
      "  (1, 24600)\t3\n",
      "  (1, 21247)\t4\n",
      "  :\t:\n",
      "  (33498, 35383)\t1\n",
      "  (33498, 8698)\t1\n",
      "  (33498, 11500)\t1\n",
      "  (33498, 12725)\t1\n",
      "  (33498, 197)\t1\n",
      "  (33498, 7457)\t1\n",
      "  (33498, 10162)\t1\n",
      "  (33498, 32975)\t1\n",
      "  (33498, 27107)\t1\n",
      "  (33498, 9246)\t1\n",
      "  (33498, 18694)\t1\n",
      "  (33498, 9231)\t1\n",
      "  (33498, 37592)\t1\n",
      "  (33498, 16521)\t1\n",
      "  (33498, 37376)\t1\n",
      "  (33498, 25349)\t1\n",
      "  (33498, 20114)\t1\n",
      "  (33498, 31465)\t1\n",
      "  (33498, 37179)\t1\n",
      "  (33498, 7859)\t2\n",
      "  (33498, 20115)\t1\n",
      "  (33498, 32654)\t1\n",
      "  (33498, 771)\t1\n",
      "  (33498, 1081)\t1\n",
      "  (33499, 23925)\t1\n"
     ]
    }
   ],
   "source": [
    "print(cv_train_features)"
   ]
  },
  {
   "cell_type": "code",
   "execution_count": 23,
   "id": "14cd7950",
   "metadata": {
    "scrolled": true
   },
   "outputs": [
    {
     "name": "stdout",
     "output_type": "stream",
     "text": [
      "(16500, 40755)\n",
      "  (0, 28141)\t1\n",
      "  (0, 2334)\t1\n",
      "  (0, 7059)\t1\n",
      "  (0, 29655)\t1\n",
      "  (0, 11385)\t1\n",
      "  (0, 1678)\t1\n",
      "  (0, 20791)\t1\n",
      "  (0, 7729)\t1\n",
      "  (0, 3223)\t1\n",
      "  (0, 4158)\t1\n",
      "  (0, 10671)\t1\n",
      "  (0, 14509)\t1\n",
      "  (0, 10243)\t1\n",
      "  (0, 33492)\t1\n",
      "  (0, 20715)\t1\n",
      "  (0, 3388)\t1\n",
      "  (0, 26743)\t1\n",
      "  (1, 3223)\t1\n",
      "  (1, 10243)\t3\n",
      "  (1, 27300)\t4\n",
      "  (1, 29676)\t2\n",
      "  (1, 34517)\t5\n",
      "  (1, 23717)\t7\n",
      "  (1, 24600)\t3\n",
      "  (1, 21247)\t4\n",
      "  :\t:\n",
      "  (33498, 35383)\t1\n",
      "  (33498, 8698)\t1\n",
      "  (33498, 11500)\t1\n",
      "  (33498, 12725)\t1\n",
      "  (33498, 197)\t1\n",
      "  (33498, 7457)\t1\n",
      "  (33498, 10162)\t1\n",
      "  (33498, 32975)\t1\n",
      "  (33498, 27107)\t1\n",
      "  (33498, 9246)\t1\n",
      "  (33498, 18694)\t1\n",
      "  (33498, 9231)\t1\n",
      "  (33498, 37592)\t1\n",
      "  (33498, 16521)\t1\n",
      "  (33498, 37376)\t1\n",
      "  (33498, 25349)\t1\n",
      "  (33498, 20114)\t1\n",
      "  (33498, 31465)\t1\n",
      "  (33498, 37179)\t1\n",
      "  (33498, 7859)\t2\n",
      "  (33498, 20115)\t1\n",
      "  (33498, 32654)\t1\n",
      "  (33498, 771)\t1\n",
      "  (33498, 1081)\t1\n",
      "  (33499, 23925)\t1\n"
     ]
    }
   ],
   "source": [
    "# transform test articles into features\n",
    "cv_test_features = cv.transform(test_corpus.astype('U'))\n",
    "print(cv_test_features.shape)\n",
    "print(cv_train_features)"
   ]
  },
  {
   "cell_type": "code",
   "execution_count": 24,
   "id": "b653acce",
   "metadata": {},
   "outputs": [
    {
     "name": "stdout",
     "output_type": "stream",
     "text": [
      "BOW model:> Train features shape: (33500, 40755)  Test features shape: (16500, 40755)\n"
     ]
    }
   ],
   "source": [
    "print('BOW model:> Train features shape:', cv_train_features.shape, ' Test features shape:', cv_test_features.shape)"
   ]
  },
  {
   "cell_type": "code",
   "execution_count": 25,
   "id": "27a3f423",
   "metadata": {},
   "outputs": [
    {
     "name": "stdout",
     "output_type": "stream",
     "text": [
      "CV Accuracy (5-fold): [0.81283582 0.80671642 0.8019403  0.80656716 0.81776119]\n",
      "Mean CV Accuracy: 0.8091641791044776\n",
      "Test Accuracy: 0.8161212121212121\n"
     ]
    }
   ],
   "source": [
    "from sklearn.linear_model import LogisticRegression\n",
    "\n",
    "lr = LogisticRegression(penalty='l2', max_iter=1000, C=0.1, random_state=42)\n",
    "lr.fit(cv_train_features, train_label_names)\n",
    "lr_bow_cv_scores = cross_val_score(lr, cv_train_features, train_label_names, cv=5)\n",
    "lr_bow_cv_mean_score = np.mean(lr_bow_cv_scores)\n",
    "print('CV Accuracy (5-fold):', lr_bow_cv_scores)\n",
    "print('Mean CV Accuracy:', lr_bow_cv_mean_score)\n",
    "lr_bow_test_score = lr.score(cv_test_features, test_label_names)\n",
    "print('Test Accuracy:', lr_bow_test_score)"
   ]
  },
  {
   "cell_type": "code",
   "execution_count": 26,
   "id": "1b4480f6",
   "metadata": {
    "scrolled": true
   },
   "outputs": [
    {
     "name": "stdout",
     "output_type": "stream",
     "text": [
      "CV Accuracy (5-fold): [0.7958209  0.79850746 0.79134328 0.7958209  0.80522388]\n",
      "Mean CV Accuracy: 0.7973432835820896\n",
      "Test Accuracy: 0.8034545454545454\n"
     ]
    }
   ],
   "source": [
    "from sklearn.svm import LinearSVC\n",
    "\n",
    "svm = LinearSVC(penalty='l2', max_iter=100, C=0.001, random_state=42)\n",
    "svm.fit(cv_train_features, train_label_names)\n",
    "svm_bow_cv_scores = cross_val_score(svm, cv_train_features, train_label_names, cv=5)\n",
    "svm_bow_cv_mean_score = np.mean(svm_bow_cv_scores)\n",
    "print('CV Accuracy (5-fold):', svm_bow_cv_scores)\n",
    "print('Mean CV Accuracy:', svm_bow_cv_mean_score)\n",
    "svm_bow_test_score = svm.score(cv_test_features, test_label_names)\n",
    "print('Test Accuracy:', svm_bow_test_score)"
   ]
  },
  {
   "cell_type": "code",
   "execution_count": 33,
   "id": "bca7adad",
   "metadata": {
    "scrolled": true
   },
   "outputs": [
    {
     "data": {
      "text/html": [
       "<div>\n",
       "<style scoped>\n",
       "    .dataframe tbody tr th:only-of-type {\n",
       "        vertical-align: middle;\n",
       "    }\n",
       "\n",
       "    .dataframe tbody tr th {\n",
       "        vertical-align: top;\n",
       "    }\n",
       "\n",
       "    .dataframe thead th {\n",
       "        text-align: right;\n",
       "    }\n",
       "</style>\n",
       "<table border=\"1\" class=\"dataframe\">\n",
       "  <thead>\n",
       "    <tr style=\"text-align: right;\">\n",
       "      <th></th>\n",
       "      <th>Model</th>\n",
       "      <th>CV Score (TF)</th>\n",
       "      <th>Test Score (TF)</th>\n",
       "    </tr>\n",
       "  </thead>\n",
       "  <tbody>\n",
       "    <tr>\n",
       "      <th>0</th>\n",
       "      <td>Logistic Regression</td>\n",
       "      <td>0.809164</td>\n",
       "      <td>0.816121</td>\n",
       "    </tr>\n",
       "    <tr>\n",
       "      <th>1</th>\n",
       "      <td>Linear SVM</td>\n",
       "      <td>0.797343</td>\n",
       "      <td>0.803455</td>\n",
       "    </tr>\n",
       "  </tbody>\n",
       "</table>\n",
       "</div>"
      ],
      "text/plain": [
       "                 Model  CV Score (TF)  Test Score (TF)\n",
       "0  Logistic Regression       0.809164         0.816121\n",
       "1           Linear SVM       0.797343         0.803455"
      ]
     },
     "execution_count": 33,
     "metadata": {},
     "output_type": "execute_result"
    }
   ],
   "source": [
    "pd.DataFrame([['Logistic Regression', lr_bow_cv_mean_score, lr_bow_test_score],\n",
    "              ['Linear SVM', svm_bow_cv_mean_score, svm_bow_test_score]],\n",
    "              columns=['Model',  'CV Score (TF)', 'Test Score (TF)'],\n",
    "             )"
   ]
  }
 ],
 "metadata": {
  "kernelspec": {
   "display_name": "Python 3",
   "language": "python",
   "name": "python3"
  },
  "language_info": {
   "codemirror_mode": {
    "name": "ipython",
    "version": 3
   },
   "file_extension": ".py",
   "mimetype": "text/x-python",
   "name": "python",
   "nbconvert_exporter": "python",
   "pygments_lexer": "ipython3",
   "version": "3.8.8"
  }
 },
 "nbformat": 4,
 "nbformat_minor": 5
}
