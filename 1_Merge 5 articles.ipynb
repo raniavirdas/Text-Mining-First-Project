{
 "cells": [
  {
   "cell_type": "code",
   "execution_count": 17,
   "id": "29481593",
   "metadata": {},
   "outputs": [
    {
     "data": {
      "text/plain": [
       "['../Output/pubmed-cancer-set_10000.xlsx',\n",
       " '../Output/pubmed-COVID-19-set_10000.xlsx',\n",
       " '../Output/pubmed-genome-set_10000.xlsx',\n",
       " '../Output/pubmed-vaccine-set_10000.xlsx',\n",
       " '../Output/pubmed-virus-set_10000.xlsx']"
      ]
     },
     "execution_count": 17,
     "metadata": {},
     "output_type": "execute_result"
    }
   ],
   "source": [
    "TypeArticles = [\n",
    "\"../Output/pubmed-cancer-set_10000.xlsx\",\n",
    "\"../Output/pubmed-COVID-19-set_10000.xlsx\",\n",
    "\"../Output/pubmed-genome-set_10000.xlsx\",\n",
    "\"../Output/pubmed-vaccine-set_10000.xlsx\",\n",
    "\"../Output/pubmed-virus-set_10000.xlsx\",\n",
    "]\n",
    "TypeArticles"
   ]
  },
  {
   "cell_type": "code",
   "execution_count": 18,
   "id": "9f7f2fe5",
   "metadata": {},
   "outputs": [
    {
     "data": {
      "text/plain": [
       "5"
      ]
     },
     "execution_count": 18,
     "metadata": {},
     "output_type": "execute_result"
    }
   ],
   "source": [
    "len(TypeArticles)"
   ]
  },
  {
   "cell_type": "code",
   "execution_count": 19,
   "id": "3914c543",
   "metadata": {},
   "outputs": [
    {
     "data": {
      "text/html": [
       "<div>\n",
       "<style scoped>\n",
       "    .dataframe tbody tr th:only-of-type {\n",
       "        vertical-align: middle;\n",
       "    }\n",
       "\n",
       "    .dataframe tbody tr th {\n",
       "        vertical-align: top;\n",
       "    }\n",
       "\n",
       "    .dataframe thead th {\n",
       "        text-align: right;\n",
       "    }\n",
       "</style>\n",
       "<table border=\"1\" class=\"dataframe\">\n",
       "  <thead>\n",
       "    <tr style=\"text-align: right;\">\n",
       "      <th></th>\n",
       "      <th>Unnamed: 0</th>\n",
       "      <th>PUMID</th>\n",
       "      <th>TI</th>\n",
       "      <th>AB</th>\n",
       "      <th>Type</th>\n",
       "    </tr>\n",
       "  </thead>\n",
       "  <tbody>\n",
       "    <tr>\n",
       "      <th>0</th>\n",
       "      <td>0</td>\n",
       "      <td>27070380</td>\n",
       "      <td>A Literature Review of Zika Virus.</td>\n",
       "      <td>Zika virus is a mosquitoborne flavivirus that ...</td>\n",
       "      <td>Virus</td>\n",
       "    </tr>\n",
       "    <tr>\n",
       "      <th>1</th>\n",
       "      <td>1</td>\n",
       "      <td>30039318</td>\n",
       "      <td>Virus classification</td>\n",
       "      <td>High-throughput sequencing (HTS) and its use i...</td>\n",
       "      <td>Virus</td>\n",
       "    </tr>\n",
       "    <tr>\n",
       "      <th>2</th>\n",
       "      <td>2</td>\n",
       "      <td>30081492</td>\n",
       "      <td>Mutation and Epistasis in Influenza Virus Evol...</td>\n",
       "      <td>Influenza remains a persistent public health c...</td>\n",
       "      <td>Virus</td>\n",
       "    </tr>\n",
       "    <tr>\n",
       "      <th>3</th>\n",
       "      <td>3</td>\n",
       "      <td>28456056</td>\n",
       "      <td>Virus population dynamics during infection.</td>\n",
       "      <td>During RNA virus infection of a host, error-pr...</td>\n",
       "      <td>Virus</td>\n",
       "    </tr>\n",
       "    <tr>\n",
       "      <th>4</th>\n",
       "      <td>4</td>\n",
       "      <td>22440970</td>\n",
       "      <td>Virus disinfection mechanisms: the role of vir...</td>\n",
       "      <td>Drinking waters are treated for enteric virus ...</td>\n",
       "      <td>Virus</td>\n",
       "    </tr>\n",
       "    <tr>\n",
       "      <th>...</th>\n",
       "      <td>...</td>\n",
       "      <td>...</td>\n",
       "      <td>...</td>\n",
       "      <td>...</td>\n",
       "      <td>...</td>\n",
       "    </tr>\n",
       "    <tr>\n",
       "      <th>9995</th>\n",
       "      <td>9995</td>\n",
       "      <td>30128994</td>\n",
       "      <td>Targeted Sequencing of Respiratory Viruses in ...</td>\n",
       "      <td>A large number of viruses can individually and...</td>\n",
       "      <td>Virus</td>\n",
       "    </tr>\n",
       "    <tr>\n",
       "      <th>9996</th>\n",
       "      <td>9996</td>\n",
       "      <td>12809802</td>\n",
       "      <td>Comparative population dynamics of mosquito-bo...</td>\n",
       "      <td>Among the members of the genus Flavivirus are ...</td>\n",
       "      <td>Virus</td>\n",
       "    </tr>\n",
       "    <tr>\n",
       "      <th>9997</th>\n",
       "      <td>9997</td>\n",
       "      <td>9333914</td>\n",
       "      <td>[New hepatitis viruses].</td>\n",
       "      <td>Until 1987 only the hepatitis viridae A, B and...</td>\n",
       "      <td>Virus</td>\n",
       "    </tr>\n",
       "    <tr>\n",
       "      <th>9998</th>\n",
       "      <td>9998</td>\n",
       "      <td>22328700</td>\n",
       "      <td>Draft genome sequence of four coccolithoviruse...</td>\n",
       "      <td>The Coccolithoviridae are a group of viruses w...</td>\n",
       "      <td>Virus</td>\n",
       "    </tr>\n",
       "    <tr>\n",
       "      <th>9999</th>\n",
       "      <td>9999</td>\n",
       "      <td>28057256</td>\n",
       "      <td>Biomedical and Catalytic Opportunities of Viru...</td>\n",
       "      <td>Within biology, molecules are arranged in hier...</td>\n",
       "      <td>Virus</td>\n",
       "    </tr>\n",
       "  </tbody>\n",
       "</table>\n",
       "<p>10000 rows × 5 columns</p>\n",
       "</div>"
      ],
      "text/plain": [
       "      Unnamed: 0     PUMID                                                 TI  \\\n",
       "0              0  27070380                 A Literature Review of Zika Virus.   \n",
       "1              1  30039318                               Virus classification   \n",
       "2              2  30081492  Mutation and Epistasis in Influenza Virus Evol...   \n",
       "3              3  28456056        Virus population dynamics during infection.   \n",
       "4              4  22440970  Virus disinfection mechanisms: the role of vir...   \n",
       "...          ...       ...                                                ...   \n",
       "9995        9995  30128994  Targeted Sequencing of Respiratory Viruses in ...   \n",
       "9996        9996  12809802  Comparative population dynamics of mosquito-bo...   \n",
       "9997        9997   9333914                           [New hepatitis viruses].   \n",
       "9998        9998  22328700  Draft genome sequence of four coccolithoviruse...   \n",
       "9999        9999  28057256  Biomedical and Catalytic Opportunities of Viru...   \n",
       "\n",
       "                                                     AB   Type  \n",
       "0     Zika virus is a mosquitoborne flavivirus that ...  Virus  \n",
       "1     High-throughput sequencing (HTS) and its use i...  Virus  \n",
       "2     Influenza remains a persistent public health c...  Virus  \n",
       "3     During RNA virus infection of a host, error-pr...  Virus  \n",
       "4     Drinking waters are treated for enteric virus ...  Virus  \n",
       "...                                                 ...    ...  \n",
       "9995  A large number of viruses can individually and...  Virus  \n",
       "9996  Among the members of the genus Flavivirus are ...  Virus  \n",
       "9997  Until 1987 only the hepatitis viridae A, B and...  Virus  \n",
       "9998  The Coccolithoviridae are a group of viruses w...  Virus  \n",
       "9999  Within biology, molecules are arranged in hier...  Virus  \n",
       "\n",
       "[10000 rows x 5 columns]"
      ]
     },
     "execution_count": 19,
     "metadata": {},
     "output_type": "execute_result"
    }
   ],
   "source": [
    "import pandas as pd\n",
    "\n",
    "PubMed_Articles = pd.read_excel(TypeArticles[4])\n",
    "PubMed_Articles"
   ]
  },
  {
   "cell_type": "code",
   "execution_count": 21,
   "id": "3f75f23c",
   "metadata": {},
   "outputs": [
    {
     "name": "stdout",
     "output_type": "stream",
     "text": [
      "../Output/pubmed-COVID-19-set_10000.xlsx\n",
      "../Output/pubmed-genome-set_10000.xlsx\n",
      "../Output/pubmed-vaccine-set_10000.xlsx\n",
      "../Output/pubmed-virus-set_10000.xlsx\n"
     ]
    }
   ],
   "source": [
    "import pandas as pd\n",
    "\n",
    "PubMed_Articles = pd.read_excel(TypeArticles[0])\n",
    "#PubMed_Articles\n",
    "for i in range (1,len(TypeArticles)):\n",
    "    print(TypeArticles[i])\n",
    "    OnePubMed_Articles = pd.read_excel(TypeArticles[i])\n",
    "    PubMed_Articles = PubMed_Articles.append(OnePubMed_Articles)"
   ]
  },
  {
   "cell_type": "code",
   "execution_count": 22,
   "id": "58352a53",
   "metadata": {
    "scrolled": true
   },
   "outputs": [
    {
     "data": {
      "text/html": [
       "<div>\n",
       "<style scoped>\n",
       "    .dataframe tbody tr th:only-of-type {\n",
       "        vertical-align: middle;\n",
       "    }\n",
       "\n",
       "    .dataframe tbody tr th {\n",
       "        vertical-align: top;\n",
       "    }\n",
       "\n",
       "    .dataframe thead th {\n",
       "        text-align: right;\n",
       "    }\n",
       "</style>\n",
       "<table border=\"1\" class=\"dataframe\">\n",
       "  <thead>\n",
       "    <tr style=\"text-align: right;\">\n",
       "      <th></th>\n",
       "      <th>Unnamed: 0</th>\n",
       "      <th>PUMID</th>\n",
       "      <th>TI</th>\n",
       "      <th>AB</th>\n",
       "      <th>Type</th>\n",
       "    </tr>\n",
       "  </thead>\n",
       "  <tbody>\n",
       "    <tr>\n",
       "      <th>0</th>\n",
       "      <td>0</td>\n",
       "      <td>28244479</td>\n",
       "      <td>Cancer and cure: A critical analysis.</td>\n",
       "      <td>Cancer is one of the most dreaded diseases of ...</td>\n",
       "      <td>Cancer</td>\n",
       "    </tr>\n",
       "    <tr>\n",
       "      <th>1</th>\n",
       "      <td>1</td>\n",
       "      <td>29949179</td>\n",
       "      <td>Tumor microenvironment: recent advances in var...</td>\n",
       "      <td>This is a review regarding different types of ...</td>\n",
       "      <td>Cancer</td>\n",
       "    </tr>\n",
       "    <tr>\n",
       "      <th>2</th>\n",
       "      <td>2</td>\n",
       "      <td>26667886</td>\n",
       "      <td>Global Cancer Incidence and Mortality Rates an...</td>\n",
       "      <td>There are limited published data on recent can...</td>\n",
       "      <td>Cancer</td>\n",
       "    </tr>\n",
       "    <tr>\n",
       "      <th>3</th>\n",
       "      <td>3</td>\n",
       "      <td>30713326</td>\n",
       "      <td>Recent Updates on the Relationship between Can...</td>\n",
       "      <td>Autoimmune pancreatitis (AIP) is now considere...</td>\n",
       "      <td>Cancer</td>\n",
       "    </tr>\n",
       "    <tr>\n",
       "      <th>4</th>\n",
       "      <td>4</td>\n",
       "      <td>31761807</td>\n",
       "      <td>What Is Cancer?</td>\n",
       "      <td>This essay focuses on themes in Explaining Can...</td>\n",
       "      <td>Cancer</td>\n",
       "    </tr>\n",
       "    <tr>\n",
       "      <th>...</th>\n",
       "      <td>...</td>\n",
       "      <td>...</td>\n",
       "      <td>...</td>\n",
       "      <td>...</td>\n",
       "      <td>...</td>\n",
       "    </tr>\n",
       "    <tr>\n",
       "      <th>9995</th>\n",
       "      <td>9995</td>\n",
       "      <td>30128994</td>\n",
       "      <td>Targeted Sequencing of Respiratory Viruses in ...</td>\n",
       "      <td>A large number of viruses can individually and...</td>\n",
       "      <td>Virus</td>\n",
       "    </tr>\n",
       "    <tr>\n",
       "      <th>9996</th>\n",
       "      <td>9996</td>\n",
       "      <td>12809802</td>\n",
       "      <td>Comparative population dynamics of mosquito-bo...</td>\n",
       "      <td>Among the members of the genus Flavivirus are ...</td>\n",
       "      <td>Virus</td>\n",
       "    </tr>\n",
       "    <tr>\n",
       "      <th>9997</th>\n",
       "      <td>9997</td>\n",
       "      <td>9333914</td>\n",
       "      <td>[New hepatitis viruses].</td>\n",
       "      <td>Until 1987 only the hepatitis viridae A, B and...</td>\n",
       "      <td>Virus</td>\n",
       "    </tr>\n",
       "    <tr>\n",
       "      <th>9998</th>\n",
       "      <td>9998</td>\n",
       "      <td>22328700</td>\n",
       "      <td>Draft genome sequence of four coccolithoviruse...</td>\n",
       "      <td>The Coccolithoviridae are a group of viruses w...</td>\n",
       "      <td>Virus</td>\n",
       "    </tr>\n",
       "    <tr>\n",
       "      <th>9999</th>\n",
       "      <td>9999</td>\n",
       "      <td>28057256</td>\n",
       "      <td>Biomedical and Catalytic Opportunities of Viru...</td>\n",
       "      <td>Within biology, molecules are arranged in hier...</td>\n",
       "      <td>Virus</td>\n",
       "    </tr>\n",
       "  </tbody>\n",
       "</table>\n",
       "<p>50000 rows × 5 columns</p>\n",
       "</div>"
      ],
      "text/plain": [
       "      Unnamed: 0     PUMID                                                 TI  \\\n",
       "0              0  28244479              Cancer and cure: A critical analysis.   \n",
       "1              1  29949179  Tumor microenvironment: recent advances in var...   \n",
       "2              2  26667886  Global Cancer Incidence and Mortality Rates an...   \n",
       "3              3  30713326  Recent Updates on the Relationship between Can...   \n",
       "4              4  31761807                                    What Is Cancer?   \n",
       "...          ...       ...                                                ...   \n",
       "9995        9995  30128994  Targeted Sequencing of Respiratory Viruses in ...   \n",
       "9996        9996  12809802  Comparative population dynamics of mosquito-bo...   \n",
       "9997        9997   9333914                           [New hepatitis viruses].   \n",
       "9998        9998  22328700  Draft genome sequence of four coccolithoviruse...   \n",
       "9999        9999  28057256  Biomedical and Catalytic Opportunities of Viru...   \n",
       "\n",
       "                                                     AB    Type  \n",
       "0     Cancer is one of the most dreaded diseases of ...  Cancer  \n",
       "1     This is a review regarding different types of ...  Cancer  \n",
       "2     There are limited published data on recent can...  Cancer  \n",
       "3     Autoimmune pancreatitis (AIP) is now considere...  Cancer  \n",
       "4     This essay focuses on themes in Explaining Can...  Cancer  \n",
       "...                                                 ...     ...  \n",
       "9995  A large number of viruses can individually and...   Virus  \n",
       "9996  Among the members of the genus Flavivirus are ...   Virus  \n",
       "9997  Until 1987 only the hepatitis viridae A, B and...   Virus  \n",
       "9998  The Coccolithoviridae are a group of viruses w...   Virus  \n",
       "9999  Within biology, molecules are arranged in hier...   Virus  \n",
       "\n",
       "[50000 rows x 5 columns]"
      ]
     },
     "execution_count": 22,
     "metadata": {},
     "output_type": "execute_result"
    }
   ],
   "source": [
    "PubMed_Articles"
   ]
  },
  {
   "cell_type": "code",
   "execution_count": 23,
   "id": "19a9abbe",
   "metadata": {},
   "outputs": [
    {
     "data": {
      "text/plain": [
       "(50000, 5)"
      ]
     },
     "execution_count": 23,
     "metadata": {},
     "output_type": "execute_result"
    }
   ],
   "source": [
    "PubMed_Articles.shape"
   ]
  },
  {
   "cell_type": "code",
   "execution_count": 24,
   "id": "1311642e",
   "metadata": {},
   "outputs": [
    {
     "data": {
      "text/plain": [
       "'../Src_Parsed/PubMedParsedSrc_5_classes.xlsx'"
      ]
     },
     "execution_count": 24,
     "metadata": {},
     "output_type": "execute_result"
    }
   ],
   "source": [
    "OutputFileName = \"PubMedParsedSrc_\"+str(len(TypeArticles))+\"_classes\"\n",
    "OutputFileName\n",
    "\n",
    "OutputLoction = \"../Src_Parsed/\"+OutputFileName+\".xlsx\"\n",
    "OutputLoction"
   ]
  },
  {
   "cell_type": "code",
   "execution_count": 25,
   "id": "1d4c47d2",
   "metadata": {},
   "outputs": [],
   "source": [
    "PubMed_Articles.to_excel(OutputLoction)"
   ]
  }
 ],
 "metadata": {
  "kernelspec": {
   "display_name": "Python 3",
   "language": "python",
   "name": "python3"
  },
  "language_info": {
   "codemirror_mode": {
    "name": "ipython",
    "version": 3
   },
   "file_extension": ".py",
   "mimetype": "text/x-python",
   "name": "python",
   "nbconvert_exporter": "python",
   "pygments_lexer": "ipython3",
   "version": "3.8.8"
  }
 },
 "nbformat": 4,
 "nbformat_minor": 5
}
