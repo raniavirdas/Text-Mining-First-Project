{
 "cells": [
  {
   "cell_type": "code",
   "execution_count": 4,
   "id": "bf86625f",
   "metadata": {},
   "outputs": [
    {
     "data": {
      "text/html": [
       "<div>\n",
       "<style scoped>\n",
       "    .dataframe tbody tr th:only-of-type {\n",
       "        vertical-align: middle;\n",
       "    }\n",
       "\n",
       "    .dataframe tbody tr th {\n",
       "        vertical-align: top;\n",
       "    }\n",
       "\n",
       "    .dataframe thead th {\n",
       "        text-align: right;\n",
       "    }\n",
       "</style>\n",
       "<table border=\"1\" class=\"dataframe\">\n",
       "  <thead>\n",
       "    <tr style=\"text-align: right;\">\n",
       "      <th></th>\n",
       "      <th>Unnamed: 0</th>\n",
       "      <th>Document</th>\n",
       "      <th>lemmatized</th>\n",
       "      <th>Target Label</th>\n",
       "      <th>Target Name</th>\n",
       "    </tr>\n",
       "  </thead>\n",
       "  <tbody>\n",
       "    <tr>\n",
       "      <th>0</th>\n",
       "      <td>0</td>\n",
       "      <td>Cancer and cure: A critical analysis. Cancer i...</td>\n",
       "      <td>['cancer', 'cure', 'critical', 'analysis', 'ca...</td>\n",
       "      <td>1</td>\n",
       "      <td>Cancer</td>\n",
       "    </tr>\n",
       "    <tr>\n",
       "      <th>1</th>\n",
       "      <td>1</td>\n",
       "      <td>Tumor microenvironment: recent advances in var...</td>\n",
       "      <td>['tumor', 'microenvironment', 'recent', 'advan...</td>\n",
       "      <td>1</td>\n",
       "      <td>Cancer</td>\n",
       "    </tr>\n",
       "    <tr>\n",
       "      <th>2</th>\n",
       "      <td>2</td>\n",
       "      <td>Global Cancer Incidence and Mortality Rates an...</td>\n",
       "      <td>['global', 'cancer', 'incidence', 'mortality',...</td>\n",
       "      <td>1</td>\n",
       "      <td>Cancer</td>\n",
       "    </tr>\n",
       "    <tr>\n",
       "      <th>3</th>\n",
       "      <td>3</td>\n",
       "      <td>Recent Updates on the Relationship between Can...</td>\n",
       "      <td>['recent', 'update', 'relationship', 'cancer',...</td>\n",
       "      <td>1</td>\n",
       "      <td>Cancer</td>\n",
       "    </tr>\n",
       "    <tr>\n",
       "      <th>4</th>\n",
       "      <td>4</td>\n",
       "      <td>What Is Cancer? This essay focuses on themes i...</td>\n",
       "      <td>['cancer', 'essay', 'focus', 'theme', 'explain...</td>\n",
       "      <td>1</td>\n",
       "      <td>Cancer</td>\n",
       "    </tr>\n",
       "    <tr>\n",
       "      <th>5</th>\n",
       "      <td>5</td>\n",
       "      <td>New methods in the diagnosis of cancer and gen...</td>\n",
       "      <td>['new', 'method', 'diagnosis', 'cancer', 'gene...</td>\n",
       "      <td>1</td>\n",
       "      <td>Cancer</td>\n",
       "    </tr>\n",
       "    <tr>\n",
       "      <th>6</th>\n",
       "      <td>6</td>\n",
       "      <td>Cancer-associated fibroblasts in tumor microen...</td>\n",
       "      <td>['cancerassociated', 'fibroblast', 'tumor', 'm...</td>\n",
       "      <td>1</td>\n",
       "      <td>Cancer</td>\n",
       "    </tr>\n",
       "    <tr>\n",
       "      <th>7</th>\n",
       "      <td>7</td>\n",
       "      <td>Clinical, Prognostic and Therapeutic Significa...</td>\n",
       "      <td>['clinical', 'prognostic', 'therapeutic', 'sig...</td>\n",
       "      <td>1</td>\n",
       "      <td>Cancer</td>\n",
       "    </tr>\n",
       "    <tr>\n",
       "      <th>8</th>\n",
       "      <td>8</td>\n",
       "      <td>Cancer prevention: from 1727 to milestones of ...</td>\n",
       "      <td>['cancer', 'prevention', 'milestone', 'past', ...</td>\n",
       "      <td>1</td>\n",
       "      <td>Cancer</td>\n",
       "    </tr>\n",
       "    <tr>\n",
       "      <th>9</th>\n",
       "      <td>9</td>\n",
       "      <td>NaN</td>\n",
       "      <td>['nan']</td>\n",
       "      <td>1</td>\n",
       "      <td>Cancer</td>\n",
       "    </tr>\n",
       "  </tbody>\n",
       "</table>\n",
       "</div>"
      ],
      "text/plain": [
       "   Unnamed: 0                                           Document  \\\n",
       "0           0  Cancer and cure: A critical analysis. Cancer i...   \n",
       "1           1  Tumor microenvironment: recent advances in var...   \n",
       "2           2  Global Cancer Incidence and Mortality Rates an...   \n",
       "3           3  Recent Updates on the Relationship between Can...   \n",
       "4           4  What Is Cancer? This essay focuses on themes i...   \n",
       "5           5  New methods in the diagnosis of cancer and gen...   \n",
       "6           6  Cancer-associated fibroblasts in tumor microen...   \n",
       "7           7  Clinical, Prognostic and Therapeutic Significa...   \n",
       "8           8  Cancer prevention: from 1727 to milestones of ...   \n",
       "9           9                                                NaN   \n",
       "\n",
       "                                          lemmatized  Target Label Target Name  \n",
       "0  ['cancer', 'cure', 'critical', 'analysis', 'ca...             1      Cancer  \n",
       "1  ['tumor', 'microenvironment', 'recent', 'advan...             1      Cancer  \n",
       "2  ['global', 'cancer', 'incidence', 'mortality',...             1      Cancer  \n",
       "3  ['recent', 'update', 'relationship', 'cancer',...             1      Cancer  \n",
       "4  ['cancer', 'essay', 'focus', 'theme', 'explain...             1      Cancer  \n",
       "5  ['new', 'method', 'diagnosis', 'cancer', 'gene...             1      Cancer  \n",
       "6  ['cancerassociated', 'fibroblast', 'tumor', 'm...             1      Cancer  \n",
       "7  ['clinical', 'prognostic', 'therapeutic', 'sig...             1      Cancer  \n",
       "8  ['cancer', 'prevention', 'milestone', 'past', ...             1      Cancer  \n",
       "9                                            ['nan']             1      Cancer  "
      ]
     },
     "execution_count": 4,
     "metadata": {},
     "output_type": "execute_result"
    }
   ],
   "source": [
    "import pandas as pd\n",
    "#data_df = pd.read_csv('clean_newsgroups.csv')\n",
    "data_df = pd.read_csv('../Output/PubMedArticle(normalize+lemmatize).csv', encoding='utf-8')\n",
    "data_df.head(10)"
   ]
  },
  {
   "cell_type": "code",
   "execution_count": 5,
   "id": "909ba837",
   "metadata": {},
   "outputs": [
    {
     "data": {
      "text/plain": [
       "{0: 'Cancer', 1: 'COVID-19', 2: 'Genome', 3: 'Vaccine', 4: 'Virus'}"
      ]
     },
     "execution_count": 5,
     "metadata": {},
     "output_type": "execute_result"
    }
   ],
   "source": [
    "data_labels_map = dict(enumerate(pd.unique(data_df['Target Name'])))\n",
    "data_labels_map"
   ]
  },
  {
   "cell_type": "code",
   "execution_count": 6,
   "id": "f279eebd",
   "metadata": {},
   "outputs": [
    {
     "data": {
      "text/plain": [
       "((33500,), (16500,))"
      ]
     },
     "execution_count": 6,
     "metadata": {},
     "output_type": "execute_result"
    }
   ],
   "source": [
    "import numpy as np\n",
    "from sklearn.model_selection import train_test_split\n",
    "\n",
    "train_corpus, test_corpus, train_label_nums, test_label_nums, train_label_names, test_label_names =\\\n",
    "                                 train_test_split(np.array(data_df['lemmatized']), np.array(data_df['Target Label']),\n",
    "                                                       np.array(data_df['Target Name']), test_size=0.33, random_state=42)\n",
    "\n",
    "train_corpus.shape, test_corpus.shape"
   ]
  },
  {
   "cell_type": "code",
   "execution_count": 7,
   "id": "c40ac1fa",
   "metadata": {},
   "outputs": [
    {
     "name": "stdout",
     "output_type": "stream",
     "text": [
      "TFIDF model:> Train features shape: (33500, 85199)  Test features shape: (16500, 85199)\n"
     ]
    }
   ],
   "source": [
    "from sklearn.feature_extraction.text import TfidfVectorizer\n",
    "\n",
    "# build BOW features on train articles\n",
    "tv = TfidfVectorizer(use_idf=True, min_df=0.0, max_df=1.0)\n",
    "tv_train_features = tv.fit_transform(train_corpus.astype('U'))\n",
    "# transform test articles into features\n",
    "tv_test_features = tv.transform(test_corpus.astype('U'))\n",
    "print('TFIDF model:> Train features shape:', tv_train_features.shape, ' Test features shape:', tv_test_features.shape)"
   ]
  },
  {
   "cell_type": "code",
   "execution_count": 9,
   "id": "402e6ab7",
   "metadata": {
    "scrolled": true
   },
   "outputs": [
    {
     "name": "stdout",
     "output_type": "stream",
     "text": [
      "Fitting 5 folds for each of 8 candidates, totalling 40 fits\n",
      "[CV] END .............svm__C=0.01, tfidf__ngram_range=(1, 1); total time=   6.6s\n",
      "[CV] END .............svm__C=0.01, tfidf__ngram_range=(1, 1); total time=   5.4s\n",
      "[CV] END .............svm__C=0.01, tfidf__ngram_range=(1, 1); total time=   5.2s\n",
      "[CV] END .............svm__C=0.01, tfidf__ngram_range=(1, 1); total time=   5.3s\n",
      "[CV] END .............svm__C=0.01, tfidf__ngram_range=(1, 1); total time=   5.1s\n",
      "[CV] END .............svm__C=0.01, tfidf__ngram_range=(1, 1); total time=   5.3s\n",
      "[CV] END .............svm__C=0.01, tfidf__ngram_range=(1, 1); total time=   5.4s\n",
      "[CV] END .............svm__C=0.01, tfidf__ngram_range=(1, 1); total time=   5.8s\n",
      "[CV] END .............svm__C=0.01, tfidf__ngram_range=(1, 1); total time=   6.1s\n",
      "[CV] END .............svm__C=0.01, tfidf__ngram_range=(1, 1); total time=   5.3s\n",
      "[CV] END ..............svm__C=0.1, tfidf__ngram_range=(1, 1); total time=   5.2s\n",
      "[CV] END ..............svm__C=0.1, tfidf__ngram_range=(1, 1); total time=   5.2s\n",
      "[CV] END ..............svm__C=0.1, tfidf__ngram_range=(1, 1); total time=   5.2s\n",
      "[CV] END ..............svm__C=0.1, tfidf__ngram_range=(1, 1); total time=   5.1s\n",
      "[CV] END ..............svm__C=0.1, tfidf__ngram_range=(1, 1); total time=   5.0s\n",
      "[CV] END ..............svm__C=0.1, tfidf__ngram_range=(1, 1); total time=   5.3s\n",
      "[CV] END ..............svm__C=0.1, tfidf__ngram_range=(1, 1); total time=   5.2s\n",
      "[CV] END ..............svm__C=0.1, tfidf__ngram_range=(1, 1); total time=   5.3s\n",
      "[CV] END ..............svm__C=0.1, tfidf__ngram_range=(1, 1); total time=   5.3s\n",
      "[CV] END ..............svm__C=0.1, tfidf__ngram_range=(1, 1); total time=   5.1s\n",
      "[CV] END ................svm__C=1, tfidf__ngram_range=(1, 1); total time=   5.5s\n",
      "[CV] END ................svm__C=1, tfidf__ngram_range=(1, 1); total time=   5.5s\n",
      "[CV] END ................svm__C=1, tfidf__ngram_range=(1, 1); total time=   5.4s\n",
      "[CV] END ................svm__C=1, tfidf__ngram_range=(1, 1); total time=   5.5s\n",
      "[CV] END ................svm__C=1, tfidf__ngram_range=(1, 1); total time=   5.5s\n",
      "[CV] END ................svm__C=1, tfidf__ngram_range=(1, 1); total time=   5.9s\n",
      "[CV] END ................svm__C=1, tfidf__ngram_range=(1, 1); total time=   5.6s\n",
      "[CV] END ................svm__C=1, tfidf__ngram_range=(1, 1); total time=   5.6s\n",
      "[CV] END ................svm__C=1, tfidf__ngram_range=(1, 1); total time=   6.3s\n",
      "[CV] END ................svm__C=1, tfidf__ngram_range=(1, 1); total time=   5.5s\n",
      "[CV] END ................svm__C=5, tfidf__ngram_range=(1, 1); total time=   7.5s\n",
      "[CV] END ................svm__C=5, tfidf__ngram_range=(1, 1); total time=   7.6s\n",
      "[CV] END ................svm__C=5, tfidf__ngram_range=(1, 1); total time=   7.6s\n",
      "[CV] END ................svm__C=5, tfidf__ngram_range=(1, 1); total time=   8.1s\n",
      "[CV] END ................svm__C=5, tfidf__ngram_range=(1, 1); total time=   7.1s\n",
      "[CV] END ................svm__C=5, tfidf__ngram_range=(1, 1); total time=   6.9s\n",
      "[CV] END ................svm__C=5, tfidf__ngram_range=(1, 1); total time=   7.8s\n",
      "[CV] END ................svm__C=5, tfidf__ngram_range=(1, 1); total time=   8.0s\n",
      "[CV] END ................svm__C=5, tfidf__ngram_range=(1, 1); total time=   8.5s\n",
      "[CV] END ................svm__C=5, tfidf__ngram_range=(1, 1); total time=   8.1s\n"
     ]
    }
   ],
   "source": [
    "from sklearn.pipeline import Pipeline\n",
    "from sklearn.svm import LinearSVC ,SVC\n",
    "from sklearn.model_selection import GridSearchCV\n",
    "\n",
    "\n",
    "svm_pipeline = Pipeline([('tfidf', TfidfVectorizer()),\n",
    "                        ('svm', LinearSVC(random_state=42))])\n",
    "\n",
    "param_grid = {'tfidf__ngram_range': [(1, 1), (1, 1)],\n",
    "              'svm__C': [0.01, 0.1, 1, 5]\n",
    "}\n",
    "\n",
    "gs_svm = GridSearchCV(svm_pipeline, param_grid, cv=5, verbose=2)\n",
    "gs_svm = gs_svm.fit(train_corpus.astype('U'), train_label_names)"
   ]
  },
  {
   "cell_type": "code",
   "execution_count": 10,
   "id": "7331390d",
   "metadata": {},
   "outputs": [
    {
     "data": {
      "text/plain": [
       "{'memory': None,\n",
       " 'steps': [('tfidf', TfidfVectorizer()),\n",
       "  ('svm', LinearSVC(C=0.1, random_state=42))],\n",
       " 'verbose': False,\n",
       " 'tfidf': TfidfVectorizer(),\n",
       " 'svm': LinearSVC(C=0.1, random_state=42),\n",
       " 'tfidf__analyzer': 'word',\n",
       " 'tfidf__binary': False,\n",
       " 'tfidf__decode_error': 'strict',\n",
       " 'tfidf__dtype': numpy.float64,\n",
       " 'tfidf__encoding': 'utf-8',\n",
       " 'tfidf__input': 'content',\n",
       " 'tfidf__lowercase': True,\n",
       " 'tfidf__max_df': 1.0,\n",
       " 'tfidf__max_features': None,\n",
       " 'tfidf__min_df': 1,\n",
       " 'tfidf__ngram_range': (1, 1),\n",
       " 'tfidf__norm': 'l2',\n",
       " 'tfidf__preprocessor': None,\n",
       " 'tfidf__smooth_idf': True,\n",
       " 'tfidf__stop_words': None,\n",
       " 'tfidf__strip_accents': None,\n",
       " 'tfidf__sublinear_tf': False,\n",
       " 'tfidf__token_pattern': '(?u)\\\\b\\\\w\\\\w+\\\\b',\n",
       " 'tfidf__tokenizer': None,\n",
       " 'tfidf__use_idf': True,\n",
       " 'tfidf__vocabulary': None,\n",
       " 'svm__C': 0.1,\n",
       " 'svm__class_weight': None,\n",
       " 'svm__dual': True,\n",
       " 'svm__fit_intercept': True,\n",
       " 'svm__intercept_scaling': 1,\n",
       " 'svm__loss': 'squared_hinge',\n",
       " 'svm__max_iter': 1000,\n",
       " 'svm__multi_class': 'ovr',\n",
       " 'svm__penalty': 'l2',\n",
       " 'svm__random_state': 42,\n",
       " 'svm__tol': 0.0001,\n",
       " 'svm__verbose': 0}"
      ]
     },
     "execution_count": 10,
     "metadata": {},
     "output_type": "execute_result"
    }
   ],
   "source": [
    "gs_svm.best_estimator_.get_params()"
   ]
  },
  {
   "cell_type": "code",
   "execution_count": 11,
   "id": "c176cfc6",
   "metadata": {},
   "outputs": [
    {
     "name": "stdout",
     "output_type": "stream",
     "text": [
      "Test Accuracy : 0.8323636363636364\n"
     ]
    }
   ],
   "source": [
    "best_svm_test_score = gs_svm.score(test_corpus.astype('U'), test_label_names)\n",
    "print('Test Accuracy :', best_svm_test_score)"
   ]
  },
  {
   "cell_type": "code",
   "execution_count": 12,
   "id": "f5c9b3d4",
   "metadata": {},
   "outputs": [
    {
     "name": "stdout",
     "output_type": "stream",
     "text": [
      "Fitting 5 folds for each of 6 candidates, totalling 30 fits\n",
      "[CV] END .................lr__C=1, tfidf__ngram_range=(1, 1); total time=  23.6s\n",
      "[CV] END .................lr__C=1, tfidf__ngram_range=(1, 1); total time=  19.9s\n",
      "[CV] END .................lr__C=1, tfidf__ngram_range=(1, 1); total time=  21.2s\n",
      "[CV] END .................lr__C=1, tfidf__ngram_range=(1, 1); total time=  20.1s\n",
      "[CV] END .................lr__C=1, tfidf__ngram_range=(1, 1); total time=  22.6s\n",
      "[CV] END .................lr__C=1, tfidf__ngram_range=(1, 1); total time=  23.4s\n",
      "[CV] END .................lr__C=1, tfidf__ngram_range=(1, 1); total time=  19.4s\n",
      "[CV] END .................lr__C=1, tfidf__ngram_range=(1, 1); total time=  21.2s\n",
      "[CV] END .................lr__C=1, tfidf__ngram_range=(1, 1); total time=  20.8s\n",
      "[CV] END .................lr__C=1, tfidf__ngram_range=(1, 1); total time=  23.4s\n",
      "[CV] END .................lr__C=5, tfidf__ngram_range=(1, 1); total time=  38.2s\n",
      "[CV] END .................lr__C=5, tfidf__ngram_range=(1, 1); total time=  39.2s\n",
      "[CV] END .................lr__C=5, tfidf__ngram_range=(1, 1); total time=  43.3s\n",
      "[CV] END .................lr__C=5, tfidf__ngram_range=(1, 1); total time=  37.3s\n",
      "[CV] END .................lr__C=5, tfidf__ngram_range=(1, 1); total time=  44.6s\n",
      "[CV] END .................lr__C=5, tfidf__ngram_range=(1, 1); total time=  39.9s\n",
      "[CV] END .................lr__C=5, tfidf__ngram_range=(1, 1); total time=  41.5s\n",
      "[CV] END .................lr__C=5, tfidf__ngram_range=(1, 1); total time=  41.8s\n",
      "[CV] END .................lr__C=5, tfidf__ngram_range=(1, 1); total time=  36.8s\n",
      "[CV] END .................lr__C=5, tfidf__ngram_range=(1, 1); total time=  40.0s\n",
      "[CV] END ................lr__C=10, tfidf__ngram_range=(1, 1); total time=  45.9s\n",
      "[CV] END ................lr__C=10, tfidf__ngram_range=(1, 1); total time=  48.5s\n",
      "[CV] END ................lr__C=10, tfidf__ngram_range=(1, 1); total time=  55.5s\n",
      "[CV] END ................lr__C=10, tfidf__ngram_range=(1, 1); total time=  49.4s\n",
      "[CV] END ................lr__C=10, tfidf__ngram_range=(1, 1); total time=  47.0s\n",
      "[CV] END ................lr__C=10, tfidf__ngram_range=(1, 1); total time=  49.7s\n",
      "[CV] END ................lr__C=10, tfidf__ngram_range=(1, 1); total time=  47.1s\n",
      "[CV] END ................lr__C=10, tfidf__ngram_range=(1, 1); total time=  50.0s\n",
      "[CV] END ................lr__C=10, tfidf__ngram_range=(1, 1); total time=  55.1s\n",
      "[CV] END ................lr__C=10, tfidf__ngram_range=(1, 1); total time=  59.0s\n"
     ]
    }
   ],
   "source": [
    "from sklearn.linear_model import LogisticRegression, SGDClassifier\n",
    "from sklearn.svm import LinearSVC\n",
    "from sklearn.pipeline import Pipeline\n",
    "from sklearn.model_selection import GridSearchCV\n",
    "\n",
    "lr_pipeline = Pipeline([('tfidf', TfidfVectorizer()),\n",
    "                        ('lr', LogisticRegression(penalty='l2', max_iter=1000, random_state=42))\n",
    "                       ])\n",
    "\n",
    "param_grid = {'tfidf__ngram_range': [(1, 1), (1, 1)],\n",
    "              'lr__C': [1, 5, 10]\n",
    "}\n",
    "\n",
    "gs_lr = GridSearchCV(lr_pipeline, param_grid, cv=5, verbose=2)\n",
    "gs_lr = gs_lr.fit(train_corpus.astype('U'), train_label_names)"
   ]
  },
  {
   "cell_type": "code",
   "execution_count": 13,
   "id": "d6514049",
   "metadata": {},
   "outputs": [
    {
     "data": {
      "text/plain": [
       "{'memory': None,\n",
       " 'steps': [('tfidf', TfidfVectorizer()),\n",
       "  ('lr', LogisticRegression(C=1, max_iter=1000, random_state=42))],\n",
       " 'verbose': False,\n",
       " 'tfidf': TfidfVectorizer(),\n",
       " 'lr': LogisticRegression(C=1, max_iter=1000, random_state=42),\n",
       " 'tfidf__analyzer': 'word',\n",
       " 'tfidf__binary': False,\n",
       " 'tfidf__decode_error': 'strict',\n",
       " 'tfidf__dtype': numpy.float64,\n",
       " 'tfidf__encoding': 'utf-8',\n",
       " 'tfidf__input': 'content',\n",
       " 'tfidf__lowercase': True,\n",
       " 'tfidf__max_df': 1.0,\n",
       " 'tfidf__max_features': None,\n",
       " 'tfidf__min_df': 1,\n",
       " 'tfidf__ngram_range': (1, 1),\n",
       " 'tfidf__norm': 'l2',\n",
       " 'tfidf__preprocessor': None,\n",
       " 'tfidf__smooth_idf': True,\n",
       " 'tfidf__stop_words': None,\n",
       " 'tfidf__strip_accents': None,\n",
       " 'tfidf__sublinear_tf': False,\n",
       " 'tfidf__token_pattern': '(?u)\\\\b\\\\w\\\\w+\\\\b',\n",
       " 'tfidf__tokenizer': None,\n",
       " 'tfidf__use_idf': True,\n",
       " 'tfidf__vocabulary': None,\n",
       " 'lr__C': 1,\n",
       " 'lr__class_weight': None,\n",
       " 'lr__dual': False,\n",
       " 'lr__fit_intercept': True,\n",
       " 'lr__intercept_scaling': 1,\n",
       " 'lr__l1_ratio': None,\n",
       " 'lr__max_iter': 1000,\n",
       " 'lr__multi_class': 'auto',\n",
       " 'lr__n_jobs': None,\n",
       " 'lr__penalty': 'l2',\n",
       " 'lr__random_state': 42,\n",
       " 'lr__solver': 'lbfgs',\n",
       " 'lr__tol': 0.0001,\n",
       " 'lr__verbose': 0,\n",
       " 'lr__warm_start': False}"
      ]
     },
     "execution_count": 13,
     "metadata": {},
     "output_type": "execute_result"
    }
   ],
   "source": [
    "gs_lr.best_estimator_.get_params()"
   ]
  },
  {
   "cell_type": "code",
   "execution_count": 14,
   "id": "3941b0db",
   "metadata": {},
   "outputs": [
    {
     "name": "stdout",
     "output_type": "stream",
     "text": [
      "Test Accuracy : 0.8306666666666667\n"
     ]
    }
   ],
   "source": [
    "best_lr_test_score = gs_lr.score(test_corpus.astype('U'), test_label_names)\n",
    "print('Test Accuracy :', best_lr_test_score)"
   ]
  },
  {
   "cell_type": "code",
   "execution_count": 15,
   "id": "2ce0af56",
   "metadata": {},
   "outputs": [],
   "source": [
    "import model_evaluation_utils as meu\n"
   ]
  },
  {
   "cell_type": "code",
   "execution_count": 16,
   "id": "42f206bd",
   "metadata": {
    "scrolled": true
   },
   "outputs": [
    {
     "name": "stdout",
     "output_type": "stream",
     "text": [
      "Accuracy: 0.8324\n",
      "Precision: 0.895\n",
      "Recall: 0.8324\n",
      "F1 Score: 0.843\n"
     ]
    }
   ],
   "source": [
    "svm_predictions = gs_svm.predict(test_corpus.astype('U'))\n",
    "unique_classes = list(set(test_label_names))\n",
    "meu.get_metrics(true_labels=test_label_names, predicted_labels=svm_predictions)"
   ]
  },
  {
   "cell_type": "code",
   "execution_count": 18,
   "id": "e6c420a4",
   "metadata": {
    "scrolled": true
   },
   "outputs": [
    {
     "name": "stdout",
     "output_type": "stream",
     "text": [
      "              precision    recall  f1-score   support\n",
      "\n",
      "       Virus       0.98      0.71      0.82      3285\n",
      "     Vaccine       0.56      0.98      0.71      3305\n",
      "      Cancer       0.98      0.88      0.93      3374\n",
      "      Genome       0.99      0.89      0.94      3245\n",
      "    COVID-19       0.97      0.71      0.82      3291\n",
      "\n",
      "    accuracy                           0.83     16500\n",
      "   macro avg       0.90      0.83      0.84     16500\n",
      "weighted avg       0.90      0.83      0.84     16500\n",
      "\n"
     ]
    }
   ],
   "source": [
    "meu.display_classification_report(true_labels=test_label_names, \n",
    "                                  predicted_labels=svm_predictions, classes=unique_classes)"
   ]
  },
  {
   "cell_type": "code",
   "execution_count": 19,
   "id": "fc073f48",
   "metadata": {},
   "outputs": [
    {
     "name": "stdout",
     "output_type": "stream",
     "text": [
      "Accuracy: 0.8307\n",
      "Precision: 0.8938\n",
      "Recall: 0.8307\n",
      "F1 Score: 0.8412\n"
     ]
    }
   ],
   "source": [
    "lr_predictions = gs_lr.predict(test_corpus.astype('U'))\n",
    "unique_classes = list(set(test_label_names))\n",
    "meu.get_metrics(true_labels=test_label_names, predicted_labels=lr_predictions)"
   ]
  },
  {
   "cell_type": "code",
   "execution_count": 20,
   "id": "703a1e19",
   "metadata": {},
   "outputs": [
    {
     "name": "stdout",
     "output_type": "stream",
     "text": [
      "              precision    recall  f1-score   support\n",
      "\n",
      "       Virus       0.98      0.71      0.82      3285\n",
      "     Vaccine       0.56      0.98      0.71      3305\n",
      "      Cancer       0.98      0.87      0.93      3374\n",
      "      Genome       0.98      0.89      0.93      3245\n",
      "    COVID-19       0.97      0.71      0.82      3291\n",
      "\n",
      "    accuracy                           0.83     16500\n",
      "   macro avg       0.89      0.83      0.84     16500\n",
      "weighted avg       0.89      0.83      0.84     16500\n",
      "\n"
     ]
    }
   ],
   "source": [
    "meu.display_classification_report(true_labels=test_label_names, \n",
    "                                  predicted_labels=lr_predictions, classes=unique_classes)"
   ]
  },
  {
   "cell_type": "code",
   "execution_count": 22,
   "id": "38d3b031",
   "metadata": {
    "scrolled": true
   },
   "outputs": [
    {
     "data": {
      "text/html": [
       "<div>\n",
       "<style scoped>\n",
       "    .dataframe tbody tr th:only-of-type {\n",
       "        vertical-align: middle;\n",
       "    }\n",
       "\n",
       "    .dataframe tbody tr th {\n",
       "        vertical-align: top;\n",
       "    }\n",
       "\n",
       "    .dataframe thead th {\n",
       "        text-align: right;\n",
       "    }\n",
       "</style>\n",
       "<table border=\"1\" class=\"dataframe\">\n",
       "  <thead>\n",
       "    <tr style=\"text-align: right;\">\n",
       "      <th></th>\n",
       "      <th>Label Name</th>\n",
       "      <th>Label Number</th>\n",
       "    </tr>\n",
       "  </thead>\n",
       "  <tbody>\n",
       "    <tr>\n",
       "      <th>0</th>\n",
       "      <td>Cancer</td>\n",
       "      <td>0</td>\n",
       "    </tr>\n",
       "    <tr>\n",
       "      <th>1</th>\n",
       "      <td>COVID-19</td>\n",
       "      <td>1</td>\n",
       "    </tr>\n",
       "    <tr>\n",
       "      <th>2</th>\n",
       "      <td>Genome</td>\n",
       "      <td>2</td>\n",
       "    </tr>\n",
       "    <tr>\n",
       "      <th>3</th>\n",
       "      <td>Vaccine</td>\n",
       "      <td>3</td>\n",
       "    </tr>\n",
       "    <tr>\n",
       "      <th>4</th>\n",
       "      <td>Virus</td>\n",
       "      <td>4</td>\n",
       "    </tr>\n",
       "  </tbody>\n",
       "</table>\n",
       "</div>"
      ],
      "text/plain": [
       "  Label Name  Label Number\n",
       "0     Cancer             0\n",
       "1   COVID-19             1\n",
       "2     Genome             2\n",
       "3    Vaccine             3\n",
       "4      Virus             4"
      ]
     },
     "execution_count": 22,
     "metadata": {},
     "output_type": "execute_result"
    }
   ],
   "source": [
    "label_data_map = {v:k for k, v in data_labels_map.items()}\n",
    "label_map_df = pd.DataFrame(list(label_data_map.items()), columns=['Label Name', 'Label Number'])\n",
    "label_map_df"
   ]
  },
  {
   "cell_type": "code",
   "execution_count": 26,
   "id": "f50408a7",
   "metadata": {},
   "outputs": [
    {
     "data": {
      "text/plain": [
       "array([33553,  9427,   199, ..., 33321, 40225, 28203])"
      ]
     },
     "execution_count": 26,
     "metadata": {},
     "output_type": "execute_result"
    }
   ],
   "source": [
    "train_idx, test_idx = train_test_split(np.array(range(len(data_df['lemmatized']))), test_size=0.33, random_state=42)\n",
    "test_idx"
   ]
  },
  {
   "cell_type": "code",
   "execution_count": 37,
   "id": "21a2dcda",
   "metadata": {},
   "outputs": [
    {
     "data": {
      "text/html": [
       "<div>\n",
       "<style scoped>\n",
       "    .dataframe tbody tr th:only-of-type {\n",
       "        vertical-align: middle;\n",
       "    }\n",
       "\n",
       "    .dataframe tbody tr th {\n",
       "        vertical-align: top;\n",
       "    }\n",
       "\n",
       "    .dataframe thead th {\n",
       "        text-align: right;\n",
       "    }\n",
       "</style>\n",
       "<table border=\"1\" class=\"dataframe\">\n",
       "  <thead>\n",
       "    <tr style=\"text-align: right;\">\n",
       "      <th></th>\n",
       "      <th>Unnamed: 0</th>\n",
       "      <th>Document</th>\n",
       "      <th>lemmatized</th>\n",
       "      <th>Target Label</th>\n",
       "      <th>Target Name</th>\n",
       "      <th>Predicted Name</th>\n",
       "      <th>Predicted Confidence</th>\n",
       "    </tr>\n",
       "  </thead>\n",
       "  <tbody>\n",
       "    <tr>\n",
       "      <th>33553</th>\n",
       "      <td>33553</td>\n",
       "      <td>Vaccines for International Travel. The pretravel management of the international traveler should be based on risk management principles. Prevention strategies and medical interventions should be b...</td>\n",
       "      <td>['vaccine', 'international', 'travel', 'pretravel', 'management', 'international', 'traveler', 'based', 'risk', 'management', 'principle', 'prevention', 'strategy', 'medical', 'intervention', 'bas...</td>\n",
       "      <td>4</td>\n",
       "      <td>Vaccine</td>\n",
       "      <td>Vaccine</td>\n",
       "      <td>0.750842</td>\n",
       "    </tr>\n",
       "    <tr>\n",
       "      <th>9427</th>\n",
       "      <td>9427</td>\n",
       "      <td>Diffusion-weighted magnetic resonance imaging of urinary epithelial cancer with upper urinary tract obstruction: preliminary results. BACKGROUND: Various malignant tumors of the body show high sig...</td>\n",
       "      <td>['diffusionweighted', 'magnetic', 'resonance', 'imaging', 'urinary', 'epithelial', 'cancer', 'upper', 'urinary', 'tract', 'obstruction', 'preliminary', 'result', 'background', 'various', 'malignan...</td>\n",
       "      <td>1</td>\n",
       "      <td>Cancer</td>\n",
       "      <td>Cancer</td>\n",
       "      <td>0.958875</td>\n",
       "    </tr>\n",
       "    <tr>\n",
       "      <th>199</th>\n",
       "      <td>199</td>\n",
       "      <td>Synchronous cancers in patients with head and neck cancer: risks in the era of human papillomavirus-associated oropharyngeal cancer. BACKGROUND: Second primary malignancies (SPMs) are the leading ...</td>\n",
       "      <td>['synchronous', 'cancer', 'patient', 'head', 'neck', 'cancer', 'risk', 'era', 'human', 'papillomavirusassociated', 'oropharyngeal', 'cancer', 'background', 'second', 'primary', 'malignancy', 'spms...</td>\n",
       "      <td>1</td>\n",
       "      <td>Cancer</td>\n",
       "      <td>Cancer</td>\n",
       "      <td>0.987422</td>\n",
       "    </tr>\n",
       "    <tr>\n",
       "      <th>12447</th>\n",
       "      <td>12447</td>\n",
       "      <td>NaN</td>\n",
       "      <td>['nan']</td>\n",
       "      <td>2</td>\n",
       "      <td>COVID-19</td>\n",
       "      <td>Vaccine</td>\n",
       "      <td>0.314664</td>\n",
       "    </tr>\n",
       "    <tr>\n",
       "      <th>39489</th>\n",
       "      <td>39489</td>\n",
       "      <td>NaN</td>\n",
       "      <td>['nan']</td>\n",
       "      <td>4</td>\n",
       "      <td>Vaccine</td>\n",
       "      <td>Vaccine</td>\n",
       "      <td>0.314664</td>\n",
       "    </tr>\n",
       "  </tbody>\n",
       "</table>\n",
       "</div>"
      ],
      "text/plain": [
       "       Unnamed: 0  \\\n",
       "33553       33553   \n",
       "9427         9427   \n",
       "199           199   \n",
       "12447       12447   \n",
       "39489       39489   \n",
       "\n",
       "                                                                                                                                                                                                      Document  \\\n",
       "33553  Vaccines for International Travel. The pretravel management of the international traveler should be based on risk management principles. Prevention strategies and medical interventions should be b...   \n",
       "9427   Diffusion-weighted magnetic resonance imaging of urinary epithelial cancer with upper urinary tract obstruction: preliminary results. BACKGROUND: Various malignant tumors of the body show high sig...   \n",
       "199    Synchronous cancers in patients with head and neck cancer: risks in the era of human papillomavirus-associated oropharyngeal cancer. BACKGROUND: Second primary malignancies (SPMs) are the leading ...   \n",
       "12447                                                                                                                                                                                                      NaN   \n",
       "39489                                                                                                                                                                                                      NaN   \n",
       "\n",
       "                                                                                                                                                                                                    lemmatized  \\\n",
       "33553  ['vaccine', 'international', 'travel', 'pretravel', 'management', 'international', 'traveler', 'based', 'risk', 'management', 'principle', 'prevention', 'strategy', 'medical', 'intervention', 'bas...   \n",
       "9427   ['diffusionweighted', 'magnetic', 'resonance', 'imaging', 'urinary', 'epithelial', 'cancer', 'upper', 'urinary', 'tract', 'obstruction', 'preliminary', 'result', 'background', 'various', 'malignan...   \n",
       "199    ['synchronous', 'cancer', 'patient', 'head', 'neck', 'cancer', 'risk', 'era', 'human', 'papillomavirusassociated', 'oropharyngeal', 'cancer', 'background', 'second', 'primary', 'malignancy', 'spms...   \n",
       "12447                                                                                                                                                                                                  ['nan']   \n",
       "39489                                                                                                                                                                                                  ['nan']   \n",
       "\n",
       "       Target Label Target Name Predicted Name  Predicted Confidence  \n",
       "33553             4     Vaccine        Vaccine              0.750842  \n",
       "9427              1      Cancer         Cancer              0.958875  \n",
       "199               1      Cancer         Cancer              0.987422  \n",
       "12447             2    COVID-19        Vaccine              0.314664  \n",
       "39489             4     Vaccine        Vaccine              0.314664  "
      ]
     },
     "execution_count": 37,
     "metadata": {},
     "output_type": "execute_result"
    }
   ],
   "source": [
    "predict_probas = gs_lr.predict_proba(test_corpus.astype('U')).max(axis=1)\n",
    "test_df = data_df.loc[test_idx]\n",
    "test_df['Predicted Name'] = lr_predictions\n",
    "test_df['Predicted Confidence'] = predict_probas\n",
    "test_df.head()"
   ]
  },
  {
   "cell_type": "code",
   "execution_count": 38,
   "id": "1a2dc2d7",
   "metadata": {},
   "outputs": [
    {
     "data": {
      "text/html": [
       "<div>\n",
       "<style scoped>\n",
       "    .dataframe tbody tr th:only-of-type {\n",
       "        vertical-align: middle;\n",
       "    }\n",
       "\n",
       "    .dataframe tbody tr th {\n",
       "        vertical-align: top;\n",
       "    }\n",
       "\n",
       "    .dataframe thead th {\n",
       "        text-align: right;\n",
       "    }\n",
       "</style>\n",
       "<table border=\"1\" class=\"dataframe\">\n",
       "  <thead>\n",
       "    <tr style=\"text-align: right;\">\n",
       "      <th></th>\n",
       "      <th>Unnamed: 0</th>\n",
       "      <th>Document</th>\n",
       "      <th>lemmatized</th>\n",
       "      <th>Target Label</th>\n",
       "      <th>Target Name</th>\n",
       "      <th>Predicted Name</th>\n",
       "      <th>Predicted Confidence</th>\n",
       "    </tr>\n",
       "  </thead>\n",
       "  <tbody>\n",
       "    <tr>\n",
       "      <th>83</th>\n",
       "      <td>83</td>\n",
       "      <td>[Prevention of cervical cancer (II): prophylactic HPV vaccination, current knowledge, practical procedures and new issues]. Despite the considerable success of early screening for prevention of ce...</td>\n",
       "      <td>['prevention', 'cervical', 'cancer', 'ii', 'prophylactic', 'hpv', 'vaccination', 'current', 'knowledge', 'practical', 'procedure', 'new', 'issue', 'despite', 'considerable', 'success', 'early', 's...</td>\n",
       "      <td>1</td>\n",
       "      <td>Cancer</td>\n",
       "      <td>Vaccine</td>\n",
       "      <td>0.892501</td>\n",
       "    </tr>\n",
       "    <tr>\n",
       "      <th>5356</th>\n",
       "      <td>5356</td>\n",
       "      <td>9-Valent HPV vaccine for cancers, pre-cancers and genital warts related to HPV. Human papillomavirus (HPV) is the causative agent of nearly all cervical cancer cases as well as a substantial propo...</td>\n",
       "      <td>['valent', 'hpv', 'vaccine', 'cancer', 'precancers', 'genital', 'wart', 'related', 'hpv', 'human', 'papillomavirus', 'hpv', 'causative', 'agent', 'nearly', 'cervical', 'cancer', 'case', 'well', 's...</td>\n",
       "      <td>1</td>\n",
       "      <td>Cancer</td>\n",
       "      <td>Vaccine</td>\n",
       "      <td>0.755714</td>\n",
       "    </tr>\n",
       "    <tr>\n",
       "      <th>5712</th>\n",
       "      <td>5712</td>\n",
       "      <td>Cancer vaccines generated by photodynamic therapy. The development of photodynamic therapy (PDT)-generated cancer vaccines is potentially one of the most significant achievements in the field of P...</td>\n",
       "      <td>['cancer', 'vaccine', 'generated', 'photodynamic', 'therapy', 'development', 'photodynamic', 'therapy', 'pdtgenerated', 'cancer', 'vaccine', 'potentially', 'one', 'significant', 'achievement', 'fi...</td>\n",
       "      <td>1</td>\n",
       "      <td>Cancer</td>\n",
       "      <td>Vaccine</td>\n",
       "      <td>0.628414</td>\n",
       "    </tr>\n",
       "    <tr>\n",
       "      <th>231</th>\n",
       "      <td>231</td>\n",
       "      <td>[Human papillomavirus nonavalent vaccine. Update 2017]. Human papillomavirus (HPV) is the causative agent of 5% of human cancers. HPV infection is necessary for the development of cervical cancer ...</td>\n",
       "      <td>['human', 'papillomavirus', 'nonavalent', 'vaccine', 'update', 'human', 'papillomavirus', 'hpv', 'causative', 'agent', 'human', 'cancer', 'hpv', 'infection', 'necessary', 'development', 'cervical'...</td>\n",
       "      <td>1</td>\n",
       "      <td>Cancer</td>\n",
       "      <td>Vaccine</td>\n",
       "      <td>0.535143</td>\n",
       "    </tr>\n",
       "    <tr>\n",
       "      <th>13</th>\n",
       "      <td>13</td>\n",
       "      <td>NaN</td>\n",
       "      <td>['nan']</td>\n",
       "      <td>1</td>\n",
       "      <td>Cancer</td>\n",
       "      <td>Vaccine</td>\n",
       "      <td>0.314664</td>\n",
       "    </tr>\n",
       "  </tbody>\n",
       "</table>\n",
       "</div>"
      ],
      "text/plain": [
       "      Unnamed: 0  \\\n",
       "83            83   \n",
       "5356        5356   \n",
       "5712        5712   \n",
       "231          231   \n",
       "13            13   \n",
       "\n",
       "                                                                                                                                                                                                     Document  \\\n",
       "83    [Prevention of cervical cancer (II): prophylactic HPV vaccination, current knowledge, practical procedures and new issues]. Despite the considerable success of early screening for prevention of ce...   \n",
       "5356  9-Valent HPV vaccine for cancers, pre-cancers and genital warts related to HPV. Human papillomavirus (HPV) is the causative agent of nearly all cervical cancer cases as well as a substantial propo...   \n",
       "5712  Cancer vaccines generated by photodynamic therapy. The development of photodynamic therapy (PDT)-generated cancer vaccines is potentially one of the most significant achievements in the field of P...   \n",
       "231   [Human papillomavirus nonavalent vaccine. Update 2017]. Human papillomavirus (HPV) is the causative agent of 5% of human cancers. HPV infection is necessary for the development of cervical cancer ...   \n",
       "13                                                                                                                                                                                                        NaN   \n",
       "\n",
       "                                                                                                                                                                                                   lemmatized  \\\n",
       "83    ['prevention', 'cervical', 'cancer', 'ii', 'prophylactic', 'hpv', 'vaccination', 'current', 'knowledge', 'practical', 'procedure', 'new', 'issue', 'despite', 'considerable', 'success', 'early', 's...   \n",
       "5356  ['valent', 'hpv', 'vaccine', 'cancer', 'precancers', 'genital', 'wart', 'related', 'hpv', 'human', 'papillomavirus', 'hpv', 'causative', 'agent', 'nearly', 'cervical', 'cancer', 'case', 'well', 's...   \n",
       "5712  ['cancer', 'vaccine', 'generated', 'photodynamic', 'therapy', 'development', 'photodynamic', 'therapy', 'pdtgenerated', 'cancer', 'vaccine', 'potentially', 'one', 'significant', 'achievement', 'fi...   \n",
       "231   ['human', 'papillomavirus', 'nonavalent', 'vaccine', 'update', 'human', 'papillomavirus', 'hpv', 'causative', 'agent', 'human', 'cancer', 'hpv', 'infection', 'necessary', 'development', 'cervical'...   \n",
       "13                                                                                                                                                                                                    ['nan']   \n",
       "\n",
       "      Target Label Target Name Predicted Name  Predicted Confidence  \n",
       "83               1      Cancer        Vaccine              0.892501  \n",
       "5356             1      Cancer        Vaccine              0.755714  \n",
       "5712             1      Cancer        Vaccine              0.628414  \n",
       "231              1      Cancer        Vaccine              0.535143  \n",
       "13               1      Cancer        Vaccine              0.314664  "
      ]
     },
     "execution_count": 38,
     "metadata": {},
     "output_type": "execute_result"
    }
   ],
   "source": [
    "pd.set_option('display.max_colwidth', 200)\n",
    "res_df = (test_df[(test_df['Target Name'] == 'Cancer') & (test_df['Predicted Name'] == 'Vaccine')]\n",
    "       .sort_values(by=['Predicted Confidence'], ascending=False).head(5))\n",
    "res_df"
   ]
  },
  {
   "cell_type": "code",
   "execution_count": 39,
   "id": "7887185d",
   "metadata": {},
   "outputs": [
    {
     "data": {
      "text/html": [
       "<div>\n",
       "<style scoped>\n",
       "    .dataframe tbody tr th:only-of-type {\n",
       "        vertical-align: middle;\n",
       "    }\n",
       "\n",
       "    .dataframe tbody tr th {\n",
       "        vertical-align: top;\n",
       "    }\n",
       "\n",
       "    .dataframe thead th {\n",
       "        text-align: right;\n",
       "    }\n",
       "</style>\n",
       "<table border=\"1\" class=\"dataframe\">\n",
       "  <thead>\n",
       "    <tr style=\"text-align: right;\">\n",
       "      <th></th>\n",
       "      <th>Unnamed: 0</th>\n",
       "      <th>Document</th>\n",
       "      <th>lemmatized</th>\n",
       "      <th>Target Label</th>\n",
       "      <th>Target Name</th>\n",
       "      <th>Predicted Name</th>\n",
       "      <th>Predicted Confidence</th>\n",
       "    </tr>\n",
       "  </thead>\n",
       "  <tbody>\n",
       "  </tbody>\n",
       "</table>\n",
       "</div>"
      ],
      "text/plain": [
       "Empty DataFrame\n",
       "Columns: [Unnamed: 0, Document, lemmatized, Target Label, Target Name, Predicted Name, Predicted Confidence]\n",
       "Index: []"
      ]
     },
     "execution_count": 39,
     "metadata": {},
     "output_type": "execute_result"
    }
   ],
   "source": [
    "pd.set_option('display.max_colwidth', 200)\n",
    "res_df = (test_df[(test_df['Target Name'] == 'Virus') & (test_df['Predicted Name'] == 'Covid-19')]\n",
    "       .sort_values(by=['Predicted Confidence'], ascending=False).head(5))\n",
    "res_df"
   ]
  },
  {
   "cell_type": "code",
   "execution_count": 40,
   "id": "bc8922df",
   "metadata": {},
   "outputs": [
    {
     "data": {
      "text/html": [
       "<div>\n",
       "<style scoped>\n",
       "    .dataframe tbody tr th:only-of-type {\n",
       "        vertical-align: middle;\n",
       "    }\n",
       "\n",
       "    .dataframe tbody tr th {\n",
       "        vertical-align: top;\n",
       "    }\n",
       "\n",
       "    .dataframe thead th {\n",
       "        text-align: right;\n",
       "    }\n",
       "</style>\n",
       "<table border=\"1\" class=\"dataframe\">\n",
       "  <thead>\n",
       "    <tr style=\"text-align: right;\">\n",
       "      <th></th>\n",
       "      <th>Unnamed: 0</th>\n",
       "      <th>Document</th>\n",
       "      <th>lemmatized</th>\n",
       "      <th>Target Label</th>\n",
       "      <th>Target Name</th>\n",
       "      <th>Predicted Name</th>\n",
       "      <th>Predicted Confidence</th>\n",
       "    </tr>\n",
       "  </thead>\n",
       "  <tbody>\n",
       "    <tr>\n",
       "      <th>45338</th>\n",
       "      <td>45338</td>\n",
       "      <td>VirusSeq: software to identify viruses and their integration sites using next-generation sequencing of human cancer tissue. SUMMARY: We developed a new algorithmic method, VirusSeq, for detecting ...</td>\n",
       "      <td>['virusseq', 'software', 'identify', 'virus', 'integration', 'site', 'using', 'nextgeneration', 'sequencing', 'human', 'cancer', 'tissue', 'summary', 'developed', 'new', 'algorithmic', 'method', '...</td>\n",
       "      <td>5</td>\n",
       "      <td>Virus</td>\n",
       "      <td>Genome</td>\n",
       "      <td>0.952566</td>\n",
       "    </tr>\n",
       "    <tr>\n",
       "      <th>42885</th>\n",
       "      <td>42885</td>\n",
       "      <td>System to assess genome sequencing needs for viral protein diagnostics and therapeutics. Computational analyses of genome sequences may elucidate protein signatures unique to a target pathogen. We...</td>\n",
       "      <td>['system', 'ass', 'genome', 'sequencing', 'need', 'viral', 'protein', 'diagnostics', 'therapeutic', 'computational', 'analysis', 'genome', 'sequence', 'may', 'elucidate', 'protein', 'signature', '...</td>\n",
       "      <td>5</td>\n",
       "      <td>Virus</td>\n",
       "      <td>Genome</td>\n",
       "      <td>0.942942</td>\n",
       "    </tr>\n",
       "    <tr>\n",
       "      <th>45590</th>\n",
       "      <td>45590</td>\n",
       "      <td>Frequency analysis techniques for identification of viral genetic data. Environmental metagenomic samples and samples obtained as an attempt to identify a pathogen associated with the emergence of...</td>\n",
       "      <td>['frequency', 'analysis', 'technique', 'identification', 'viral', 'genetic', 'data', 'environmental', 'metagenomic', 'sample', 'sample', 'obtained', 'attempt', 'identify', 'pathogen', 'associated'...</td>\n",
       "      <td>5</td>\n",
       "      <td>Virus</td>\n",
       "      <td>Genome</td>\n",
       "      <td>0.940430</td>\n",
       "    </tr>\n",
       "    <tr>\n",
       "      <th>45051</th>\n",
       "      <td>45051</td>\n",
       "      <td>Genome Analysis of a Novel Clade II.b Alphabaculovirus Obtained from Artaxa digramma. Artaxa digramma is a lepidopteran pest distributed throughout southern China, Myanmar, Indonesia, and India. A...</td>\n",
       "      <td>['genome', 'analysis', 'novel', 'clade', 'iib', 'alphabaculovirus', 'obtained', 'artaxa', 'digramma', 'artaxa', 'digramma', 'lepidopteran', 'pest', 'distributed', 'throughout', 'southern', 'china'...</td>\n",
       "      <td>5</td>\n",
       "      <td>Virus</td>\n",
       "      <td>Genome</td>\n",
       "      <td>0.923020</td>\n",
       "    </tr>\n",
       "    <tr>\n",
       "      <th>43312</th>\n",
       "      <td>43312</td>\n",
       "      <td>Microbial virus genome annotation-mustering the troops to fight the sequence onslaught. The revolution in virus genome sequencing promises to effectively map the extant biological universe and rev...</td>\n",
       "      <td>['microbial', 'virus', 'genome', 'annotationmustering', 'troop', 'fight', 'sequence', 'onslaught', 'revolution', 'virus', 'genome', 'sequencing', 'promise', 'effectively', 'map', 'extant', 'biolog...</td>\n",
       "      <td>5</td>\n",
       "      <td>Virus</td>\n",
       "      <td>Genome</td>\n",
       "      <td>0.919630</td>\n",
       "    </tr>\n",
       "  </tbody>\n",
       "</table>\n",
       "</div>"
      ],
      "text/plain": [
       "       Unnamed: 0  \\\n",
       "45338       45338   \n",
       "42885       42885   \n",
       "45590       45590   \n",
       "45051       45051   \n",
       "43312       43312   \n",
       "\n",
       "                                                                                                                                                                                                      Document  \\\n",
       "45338  VirusSeq: software to identify viruses and their integration sites using next-generation sequencing of human cancer tissue. SUMMARY: We developed a new algorithmic method, VirusSeq, for detecting ...   \n",
       "42885  System to assess genome sequencing needs for viral protein diagnostics and therapeutics. Computational analyses of genome sequences may elucidate protein signatures unique to a target pathogen. We...   \n",
       "45590  Frequency analysis techniques for identification of viral genetic data. Environmental metagenomic samples and samples obtained as an attempt to identify a pathogen associated with the emergence of...   \n",
       "45051  Genome Analysis of a Novel Clade II.b Alphabaculovirus Obtained from Artaxa digramma. Artaxa digramma is a lepidopteran pest distributed throughout southern China, Myanmar, Indonesia, and India. A...   \n",
       "43312  Microbial virus genome annotation-mustering the troops to fight the sequence onslaught. The revolution in virus genome sequencing promises to effectively map the extant biological universe and rev...   \n",
       "\n",
       "                                                                                                                                                                                                    lemmatized  \\\n",
       "45338  ['virusseq', 'software', 'identify', 'virus', 'integration', 'site', 'using', 'nextgeneration', 'sequencing', 'human', 'cancer', 'tissue', 'summary', 'developed', 'new', 'algorithmic', 'method', '...   \n",
       "42885  ['system', 'ass', 'genome', 'sequencing', 'need', 'viral', 'protein', 'diagnostics', 'therapeutic', 'computational', 'analysis', 'genome', 'sequence', 'may', 'elucidate', 'protein', 'signature', '...   \n",
       "45590  ['frequency', 'analysis', 'technique', 'identification', 'viral', 'genetic', 'data', 'environmental', 'metagenomic', 'sample', 'sample', 'obtained', 'attempt', 'identify', 'pathogen', 'associated'...   \n",
       "45051  ['genome', 'analysis', 'novel', 'clade', 'iib', 'alphabaculovirus', 'obtained', 'artaxa', 'digramma', 'artaxa', 'digramma', 'lepidopteran', 'pest', 'distributed', 'throughout', 'southern', 'china'...   \n",
       "43312  ['microbial', 'virus', 'genome', 'annotationmustering', 'troop', 'fight', 'sequence', 'onslaught', 'revolution', 'virus', 'genome', 'sequencing', 'promise', 'effectively', 'map', 'extant', 'biolog...   \n",
       "\n",
       "       Target Label Target Name Predicted Name  Predicted Confidence  \n",
       "45338             5       Virus         Genome              0.952566  \n",
       "42885             5       Virus         Genome              0.942942  \n",
       "45590             5       Virus         Genome              0.940430  \n",
       "45051             5       Virus         Genome              0.923020  \n",
       "43312             5       Virus         Genome              0.919630  "
      ]
     },
     "execution_count": 40,
     "metadata": {},
     "output_type": "execute_result"
    }
   ],
   "source": [
    "pd.set_option('display.max_colwidth', 200)\n",
    "res_df = (test_df[(test_df['Target Name'] == 'Virus') & (test_df['Predicted Name'] == 'Genome')]\n",
    "       .sort_values(by=['Predicted Confidence'], ascending=False).head(5))\n",
    "res_df"
   ]
  }
 ],
 "metadata": {
  "kernelspec": {
   "display_name": "Python 3",
   "language": "python",
   "name": "python3"
  },
  "language_info": {
   "codemirror_mode": {
    "name": "ipython",
    "version": 3
   },
   "file_extension": ".py",
   "mimetype": "text/x-python",
   "name": "python",
   "nbconvert_exporter": "python",
   "pygments_lexer": "ipython3",
   "version": "3.8.8"
  }
 },
 "nbformat": 4,
 "nbformat_minor": 5
}
